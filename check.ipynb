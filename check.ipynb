{
 "cells": [
  {
   "cell_type": "code",
   "execution_count": 184,
   "source": [
    "from joy import *\r\n",
    "\r\n",
    "p1= point(x=-10, y=0)\r\n",
    "p2= point(x=-15, y=20)\r\n",
    "p3= point(x=10, y=5)\r\n",
    "p4= point(x=10, y=0)\r\n",
    "front = polygon([p1,p2,p3,p4], fill='black')\r\n",
    "show(front)"
   ],
   "outputs": [
    {
     "output_type": "display_data",
     "data": {
      "text/plain": [
       "SVG:{self.nodes}"
      ],
      "image/svg+xml": "<svg width=\"300\" height=\"300\" viewBox=\"-150 -150 300 300\" fill=\"none\" stroke=\"black\" xmlns=\"http://www.w3.org/2000/svg\" xmlns:xlink=\"http://www.w3.org/1999/xlink\">\n<g transform=\"scale(1 -1)\">\n  <rect x=\"-150.0\" y=\"-150.0\" width=\"300\" height=\"300\" stroke=\"#ddd\" />\n  <line x1=\"-150\" y1=\"0\" x2=\"150\" y2=\"0\" stroke=\"#ddd\" />\n  <line x1=\"0\" y1=\"-150\" x2=\"0\" y2=\"150\" stroke=\"#ddd\" />\n  <polygon points=\"-10,0 -15,20 10,5 10,0\" fill=\"black\" />\n</g>\n</svg>\n"
     },
     "metadata": {}
    }
   ],
   "metadata": {}
  },
  {
   "cell_type": "code",
   "execution_count": 363,
   "source": [
    "'''\r\n",
    "Author : Amjad CP\r\n",
    "Program : Code A Pookalam\r\n",
    "\r\n",
    "'''\r\n",
    "\r\n",
    "from joy import *\r\n",
    "#body of vallam\r\n",
    "lin = line(stroke_width=10)\r\n",
    "e = ellipse(h=100, w=60, x=72, y=10, stroke_width=5)\r\n",
    "r1 = rectangle(w=100, h=90, fill='white', stroke='none', x=39, y=50)\r\n",
    "r2 = rectangle(w=152, h=90, fill='white', stroke='none', x=32, y=-50)\r\n",
    "body = lin+e+r1+r2\r\n",
    "\r\n",
    "#panka\r\n",
    "upper = line(x1=-90,y1=20,x2=-60,y2=-10, stroke_width=2)\r\n",
    "lower = line(x1=-60,y1=-10,x2=-50,y2=-20, stroke_width=5)\r\n",
    "panka = (upper+lower) | translate(x=146)\r\n",
    "pankas = panka|scale(1)|repeat(8, translate(x=-20)) \r\n",
    "\r\n",
    "#front of vallam\r\n",
    "p1 = point(x=-100,y=0)\r\n",
    "p2 = point(x=-100,y=10)\r\n",
    "p3 = point(x=-130,y=0)\r\n",
    "front = polygon([p1, p2, p3], stroke_width=5, fill='black') | translate(y=-3)\r\n",
    "\r\n",
    "vallam = body+pankas+front\r\n",
    "vallam1 = vallam | scale(.35) | translate(x=20, y=-40)\r\n",
    "vallam2 = vallam1 | scale(.7) | translate(x=15, y=30)\r\n",
    "show(vallam2)\r\n",
    "\r\n"
   ],
   "outputs": [
    {
     "output_type": "display_data",
     "data": {
      "text/plain": [
       "SVG:{self.nodes}"
      ],
      "image/svg+xml": "<svg width=\"300\" height=\"300\" viewBox=\"-150 -150 300 300\" fill=\"none\" stroke=\"black\" xmlns=\"http://www.w3.org/2000/svg\" xmlns:xlink=\"http://www.w3.org/1999/xlink\">\n<g transform=\"scale(1 -1)\">\n  <rect x=\"-150.0\" y=\"-150.0\" width=\"300\" height=\"300\" stroke=\"#ddd\" />\n  <line x1=\"-150\" y1=\"0\" x2=\"150\" y2=\"0\" stroke=\"#ddd\" />\n  <line x1=\"0\" y1=\"-150\" x2=\"0\" y2=\"150\" stroke=\"#ddd\" />\n  <g transform=\"translate(15 30) scale(0.7 0.7) translate(20 -40) scale(0.35 0.35)\">\n    <g>\n      <g>\n        <g>\n          <g>\n            <line x1=\"-100\" y1=\"0\" x2=\"100\" y2=\"0\" stroke-width=\"10\" />\n            <ellipse cx=\"72\" cy=\"10\" rx=\"30.0\" ry=\"50.0\" stroke-width=\"5\" />\n          </g>\n          <rect x=\"-11.0\" y=\"5.0\" width=\"100\" height=\"90\" fill=\"white\" stroke=\"none\" />\n        </g>\n        <rect x=\"-44.0\" y=\"-95.0\" width=\"152\" height=\"90\" fill=\"white\" stroke=\"none\" />\n      </g>\n      <g>\n        <defs>\n          <g id=\"shape2563556306176\" transform=\"scale(1 1) translate(146 0)\">\n            <line x1=\"-90\" y1=\"20\" x2=\"-60\" y2=\"-10\" stroke-width=\"2\" />\n            <line x1=\"-60\" y1=\"-10\" x2=\"-50\" y2=\"-20\" stroke-width=\"5\" />\n          </g>\n        </defs>\n        <g>\n          <use xlink:href=\"#shape2563556306176\" />\n          <g transform=\"translate(-20 0)\">\n            <use xlink:href=\"#shape2563556306176\" />\n            <g transform=\"translate(-20 0)\">\n              <use xlink:href=\"#shape2563556306176\" />\n              <g transform=\"translate(-20 0)\">\n                <use xlink:href=\"#shape2563556306176\" />\n                <g transform=\"translate(-20 0)\">\n                  <use xlink:href=\"#shape2563556306176\" />\n                  <g transform=\"translate(-20 0)\">\n                    <use xlink:href=\"#shape2563556306176\" />\n                    <g transform=\"translate(-20 0)\">\n                      <use xlink:href=\"#shape2563556306176\" />\n                      <use xlink:href=\"#shape2563556306176\" transform=\"translate(-20 0)\" />\n                    </g>\n                  </g>\n                </g>\n              </g>\n            </g>\n          </g>\n        </g>\n      </g>\n    </g>\n    <polygon points=\"-100,0 -100,10 -130,0\" stroke-width=\"5\" fill=\"black\" transform=\"translate(0 -3)\" />\n  </g>\n</g>\n</svg>\n"
     },
     "metadata": {}
    }
   ],
   "metadata": {}
  },
  {
   "cell_type": "code",
   "execution_count": 368,
   "source": [
    "e = ellipse(stroke_width='9') | rotate(90)\r\n",
    "r = rectangle(w=70, h=210,stroke='none', fill='white') | translate(x=20, y=0)\r\n",
    "stump = e + r\r\n",
    "stump_final = stump | scale(.5)\r\n",
    "\r\n",
    "main = line(x1=0,y1=0,x2=125,y2=0)\r\n",
    "\r\n",
    "lin1 = line(x1=10,y1=0,x2=25,y2=20)\r\n",
    "lin2 = line(x1=10, y1=0, x2=25, y2=-20)\r\n",
    "lin = lin1+lin2\r\n",
    "\r\n",
    "Lin1 = line(x1=105,y1=0,x2=115,y2=10)\r\n",
    "Lin2 = line(x1=105,y1=0,x2=115,y2=-10)\r\n",
    "Lin = Lin1+Lin2\r\n",
    "\r\n",
    "lin_final = lin | repeat(26, translate(x=5) | scale(.98))\r\n",
    "Lin_final = Lin | repeat(8, translate(x=5) | scale(.98)) \r\n",
    "\r\n",
    "leaf = main + lin_final + Lin_final \r\n",
    "leafs1 = leaf | scale(.5) | rotate(-80) | repeat(2, rotate(230) | translate(x=-10))\r\n",
    "leafs2 = leaf | rotate(-20) | repeat(2, rotate(220) | translate(x=-10))  | translate(x=0, y=30)  | scale(.7) \r\n",
    "leafs_final = leafs2 + leafs1 | scale(.5) | rotate(-30) | translate(x=-3, y=40) \r\n",
    "\r\n",
    "tree = stump_final + leafs_final\r\n",
    "tree_final = tree | scale(.5) | rotate(-30) | translate(x=-45, y=-2)\r\n",
    "\r\n",
    "show(tree_final)"
   ],
   "outputs": [
    {
     "output_type": "display_data",
     "data": {
      "text/plain": [
       "SVG:{self.nodes}"
      ],
      "image/svg+xml": "<svg width=\"300\" height=\"300\" viewBox=\"-150 -150 300 300\" fill=\"none\" stroke=\"black\" xmlns=\"http://www.w3.org/2000/svg\" xmlns:xlink=\"http://www.w3.org/1999/xlink\">\n<g transform=\"scale(1 -1)\">\n  <rect x=\"-150.0\" y=\"-150.0\" width=\"300\" height=\"300\" stroke=\"#ddd\" />\n  <line x1=\"-150\" y1=\"0\" x2=\"150\" y2=\"0\" stroke=\"#ddd\" />\n  <line x1=\"0\" y1=\"-150\" x2=\"0\" y2=\"150\" stroke=\"#ddd\" />\n  <g transform=\"translate(-45 -2) rotate(-30) scale(0.5 0.5)\">\n    <g transform=\"scale(0.5 0.5)\">\n      <ellipse cx=\"0\" cy=\"0\" rx=\"100.0\" ry=\"50.0\" stroke-width=\"9\" transform=\"rotate(90)\" />\n      <rect x=\"-35.0\" y=\"-105.0\" width=\"70\" height=\"210\" stroke=\"none\" fill=\"white\" transform=\"translate(20 0)\" />\n    </g>\n    <g transform=\"translate(-3 40) rotate(-30) scale(0.5 0.5)\">\n      <g transform=\"scale(0.7 0.7) translate(0 30)\">\n        <defs>\n          <g id=\"shape2563557416576\" transform=\"rotate(-20)\">\n            <g>\n              <line x1=\"0\" y1=\"0\" x2=\"125\" y2=\"0\" />\n              <g>\n                <defs>\n                  <g id=\"shape2563571297200\">\n                    <line x1=\"10\" y1=\"0\" x2=\"25\" y2=\"20\" />\n                    <line x1=\"10\" y1=\"0\" x2=\"25\" y2=\"-20\" />\n                  </g>\n                </defs>\n                <g>\n                  <use xlink:href=\"#shape2563571297200\" />\n                  <g transform=\"scale(0.98 0.98) translate(5 0)\">\n                    <use xlink:href=\"#shape2563571297200\" />\n                    <g transform=\"scale(0.98 0.98) translate(5 0)\">\n                      <use xlink:href=\"#shape2563571297200\" />\n                      <g transform=\"scale(0.98 0.98) translate(5 0)\">\n                        <use xlink:href=\"#shape2563571297200\" />\n                        <g transform=\"scale(0.98 0.98) translate(5 0)\">\n                          <use xlink:href=\"#shape2563571297200\" />\n                          <g transform=\"scale(0.98 0.98) translate(5 0)\">\n                            <use xlink:href=\"#shape2563571297200\" />\n                            <g transform=\"scale(0.98 0.98) translate(5 0)\">\n                              <use xlink:href=\"#shape2563571297200\" />\n                              <g transform=\"scale(0.98 0.98) translate(5 0)\">\n                                <use xlink:href=\"#shape2563571297200\" />\n                                <g transform=\"scale(0.98 0.98) translate(5 0)\">\n                                  <use xlink:href=\"#shape2563571297200\" />\n                                  <g transform=\"scale(0.98 0.98) translate(5 0)\">\n                                    <use xlink:href=\"#shape2563571297200\" />\n                                    <g transform=\"scale(0.98 0.98) translate(5 0)\">\n                                      <use xlink:href=\"#shape2563571297200\" />\n                                      <g transform=\"scale(0.98 0.98) translate(5 0)\">\n                                        <use xlink:href=\"#shape2563571297200\" />\n                                        <g transform=\"scale(0.98 0.98) translate(5 0)\">\n                                          <use xlink:href=\"#shape2563571297200\" />\n                                          <g transform=\"scale(0.98 0.98) translate(5 0)\">\n                                            <use xlink:href=\"#shape2563571297200\" />\n                                            <g transform=\"scale(0.98 0.98) translate(5 0)\">\n                                              <use xlink:href=\"#shape2563571297200\" />\n                                              <g transform=\"scale(0.98 0.98) translate(5 0)\">\n                                                <use xlink:href=\"#shape2563571297200\" />\n                                                <g transform=\"scale(0.98 0.98) translate(5 0)\">\n                                                  <use xlink:href=\"#shape2563571297200\" />\n                                                  <g transform=\"scale(0.98 0.98) translate(5 0)\">\n                                                    <use xlink:href=\"#shape2563571297200\" />\n                                                    <g transform=\"scale(0.98 0.98) translate(5 0)\">\n                                                      <use xlink:href=\"#shape2563571297200\" />\n                                                      <g transform=\"scale(0.98 0.98) translate(5 0)\">\n                                                        <use xlink:href=\"#shape2563571297200\" />\n                                                        <g transform=\"scale(0.98 0.98) translate(5 0)\">\n                                                          <use xlink:href=\"#shape2563571297200\" />\n                                                          <g transform=\"scale(0.98 0.98) translate(5 0)\">\n                                                            <use xlink:href=\"#shape2563571297200\" />\n                                                            <g transform=\"scale(0.98 0.98) translate(5 0)\">\n                                                              <use xlink:href=\"#shape2563571297200\" />\n                                                              <g transform=\"scale(0.98 0.98) translate(5 0)\">\n                                                                <use xlink:href=\"#shape2563571297200\" />\n                                                                <g transform=\"scale(0.98 0.98) translate(5 0)\">\n                                                                  <use xlink:href=\"#shape2563571297200\" />\n                                                                  <use xlink:href=\"#shape2563571297200\" transform=\"scale(0.98 0.98) translate(5 0)\" />\n                                                                </g>\n                                                              </g>\n                                                            </g>\n                                                          </g>\n                                                        </g>\n                                                      </g>\n                                                    </g>\n                                                  </g>\n                                                </g>\n                                              </g>\n                                            </g>\n                                          </g>\n                                        </g>\n                                      </g>\n                                    </g>\n                                  </g>\n                                </g>\n                              </g>\n                            </g>\n                          </g>\n                        </g>\n                      </g>\n                    </g>\n                  </g>\n                </g>\n              </g>\n            </g>\n            <g>\n              <defs>\n                <g id=\"shape2563571296576\">\n                  <line x1=\"105\" y1=\"0\" x2=\"115\" y2=\"10\" />\n                  <line x1=\"105\" y1=\"0\" x2=\"115\" y2=\"-10\" />\n                </g>\n              </defs>\n              <g>\n                <use xlink:href=\"#shape2563571296576\" />\n                <g transform=\"scale(0.98 0.98) translate(5 0)\">\n                  <use xlink:href=\"#shape2563571296576\" />\n                  <g transform=\"scale(0.98 0.98) translate(5 0)\">\n                    <use xlink:href=\"#shape2563571296576\" />\n                    <g transform=\"scale(0.98 0.98) translate(5 0)\">\n                      <use xlink:href=\"#shape2563571296576\" />\n                      <g transform=\"scale(0.98 0.98) translate(5 0)\">\n                        <use xlink:href=\"#shape2563571296576\" />\n                        <g transform=\"scale(0.98 0.98) translate(5 0)\">\n                          <use xlink:href=\"#shape2563571296576\" />\n                          <g transform=\"scale(0.98 0.98) translate(5 0)\">\n                            <use xlink:href=\"#shape2563571296576\" />\n                            <use xlink:href=\"#shape2563571296576\" transform=\"scale(0.98 0.98) translate(5 0)\" />\n                          </g>\n                        </g>\n                      </g>\n                    </g>\n                  </g>\n                </g>\n              </g>\n            </g>\n          </g>\n        </defs>\n        <g>\n          <use xlink:href=\"#shape2563557416576\" />\n          <use xlink:href=\"#shape2563557416576\" transform=\"translate(-10 0) rotate(220)\" />\n        </g>\n      </g>\n      <g>\n        <defs>\n          <g id=\"shape2563557416576\" transform=\"rotate(-80) scale(0.5 0.5)\">\n            <g>\n              <line x1=\"0\" y1=\"0\" x2=\"125\" y2=\"0\" />\n              <g>\n                <defs>\n                  <g id=\"shape2563571297200\">\n                    <line x1=\"10\" y1=\"0\" x2=\"25\" y2=\"20\" />\n                    <line x1=\"10\" y1=\"0\" x2=\"25\" y2=\"-20\" />\n                  </g>\n                </defs>\n                <g>\n                  <use xlink:href=\"#shape2563571297200\" />\n                  <g transform=\"scale(0.98 0.98) translate(5 0)\">\n                    <use xlink:href=\"#shape2563571297200\" />\n                    <g transform=\"scale(0.98 0.98) translate(5 0)\">\n                      <use xlink:href=\"#shape2563571297200\" />\n                      <g transform=\"scale(0.98 0.98) translate(5 0)\">\n                        <use xlink:href=\"#shape2563571297200\" />\n                        <g transform=\"scale(0.98 0.98) translate(5 0)\">\n                          <use xlink:href=\"#shape2563571297200\" />\n                          <g transform=\"scale(0.98 0.98) translate(5 0)\">\n                            <use xlink:href=\"#shape2563571297200\" />\n                            <g transform=\"scale(0.98 0.98) translate(5 0)\">\n                              <use xlink:href=\"#shape2563571297200\" />\n                              <g transform=\"scale(0.98 0.98) translate(5 0)\">\n                                <use xlink:href=\"#shape2563571297200\" />\n                                <g transform=\"scale(0.98 0.98) translate(5 0)\">\n                                  <use xlink:href=\"#shape2563571297200\" />\n                                  <g transform=\"scale(0.98 0.98) translate(5 0)\">\n                                    <use xlink:href=\"#shape2563571297200\" />\n                                    <g transform=\"scale(0.98 0.98) translate(5 0)\">\n                                      <use xlink:href=\"#shape2563571297200\" />\n                                      <g transform=\"scale(0.98 0.98) translate(5 0)\">\n                                        <use xlink:href=\"#shape2563571297200\" />\n                                        <g transform=\"scale(0.98 0.98) translate(5 0)\">\n                                          <use xlink:href=\"#shape2563571297200\" />\n                                          <g transform=\"scale(0.98 0.98) translate(5 0)\">\n                                            <use xlink:href=\"#shape2563571297200\" />\n                                            <g transform=\"scale(0.98 0.98) translate(5 0)\">\n                                              <use xlink:href=\"#shape2563571297200\" />\n                                              <g transform=\"scale(0.98 0.98) translate(5 0)\">\n                                                <use xlink:href=\"#shape2563571297200\" />\n                                                <g transform=\"scale(0.98 0.98) translate(5 0)\">\n                                                  <use xlink:href=\"#shape2563571297200\" />\n                                                  <g transform=\"scale(0.98 0.98) translate(5 0)\">\n                                                    <use xlink:href=\"#shape2563571297200\" />\n                                                    <g transform=\"scale(0.98 0.98) translate(5 0)\">\n                                                      <use xlink:href=\"#shape2563571297200\" />\n                                                      <g transform=\"scale(0.98 0.98) translate(5 0)\">\n                                                        <use xlink:href=\"#shape2563571297200\" />\n                                                        <g transform=\"scale(0.98 0.98) translate(5 0)\">\n                                                          <use xlink:href=\"#shape2563571297200\" />\n                                                          <g transform=\"scale(0.98 0.98) translate(5 0)\">\n                                                            <use xlink:href=\"#shape2563571297200\" />\n                                                            <g transform=\"scale(0.98 0.98) translate(5 0)\">\n                                                              <use xlink:href=\"#shape2563571297200\" />\n                                                              <g transform=\"scale(0.98 0.98) translate(5 0)\">\n                                                                <use xlink:href=\"#shape2563571297200\" />\n                                                                <g transform=\"scale(0.98 0.98) translate(5 0)\">\n                                                                  <use xlink:href=\"#shape2563571297200\" />\n                                                                  <use xlink:href=\"#shape2563571297200\" transform=\"scale(0.98 0.98) translate(5 0)\" />\n                                                                </g>\n                                                              </g>\n                                                            </g>\n                                                          </g>\n                                                        </g>\n                                                      </g>\n                                                    </g>\n                                                  </g>\n                                                </g>\n                                              </g>\n                                            </g>\n                                          </g>\n                                        </g>\n                                      </g>\n                                    </g>\n                                  </g>\n                                </g>\n                              </g>\n                            </g>\n                          </g>\n                        </g>\n                      </g>\n                    </g>\n                  </g>\n                </g>\n              </g>\n            </g>\n            <g>\n              <defs>\n                <g id=\"shape2563571296576\">\n                  <line x1=\"105\" y1=\"0\" x2=\"115\" y2=\"10\" />\n                  <line x1=\"105\" y1=\"0\" x2=\"115\" y2=\"-10\" />\n                </g>\n              </defs>\n              <g>\n                <use xlink:href=\"#shape2563571296576\" />\n                <g transform=\"scale(0.98 0.98) translate(5 0)\">\n                  <use xlink:href=\"#shape2563571296576\" />\n                  <g transform=\"scale(0.98 0.98) translate(5 0)\">\n                    <use xlink:href=\"#shape2563571296576\" />\n                    <g transform=\"scale(0.98 0.98) translate(5 0)\">\n                      <use xlink:href=\"#shape2563571296576\" />\n                      <g transform=\"scale(0.98 0.98) translate(5 0)\">\n                        <use xlink:href=\"#shape2563571296576\" />\n                        <g transform=\"scale(0.98 0.98) translate(5 0)\">\n                          <use xlink:href=\"#shape2563571296576\" />\n                          <g transform=\"scale(0.98 0.98) translate(5 0)\">\n                            <use xlink:href=\"#shape2563571296576\" />\n                            <use xlink:href=\"#shape2563571296576\" transform=\"scale(0.98 0.98) translate(5 0)\" />\n                          </g>\n                        </g>\n                      </g>\n                    </g>\n                  </g>\n                </g>\n              </g>\n            </g>\n          </g>\n        </defs>\n        <g>\n          <use xlink:href=\"#shape2563557416576\" />\n          <use xlink:href=\"#shape2563557416576\" transform=\"translate(-10 0) rotate(230)\" />\n        </g>\n      </g>\n    </g>\n  </g>\n</g>\n</svg>\n"
     },
     "metadata": {}
    }
   ],
   "metadata": {}
  },
  {
   "cell_type": "code",
   "execution_count": 372,
   "source": [
    "center_circle = circle(r=84, stroke_width=4, stroke='green')\r\n",
    "sun = circle(r=10, x=10, y=50)\r\n",
    "shape =vallam1 + center_circle + tree_final + vallam2 + sun\r\n",
    "show(shape)"
   ],
   "outputs": [
    {
     "output_type": "display_data",
     "data": {
      "text/plain": [
       "SVG:{self.nodes}"
      ],
      "image/svg+xml": "<svg width=\"300\" height=\"300\" viewBox=\"-150 -150 300 300\" fill=\"none\" stroke=\"black\" xmlns=\"http://www.w3.org/2000/svg\" xmlns:xlink=\"http://www.w3.org/1999/xlink\">\n<g transform=\"scale(1 -1)\">\n  <rect x=\"-150.0\" y=\"-150.0\" width=\"300\" height=\"300\" stroke=\"#ddd\" />\n  <line x1=\"-150\" y1=\"0\" x2=\"150\" y2=\"0\" stroke=\"#ddd\" />\n  <line x1=\"0\" y1=\"-150\" x2=\"0\" y2=\"150\" stroke=\"#ddd\" />\n  <g>\n    <g>\n      <g>\n        <g>\n          <g transform=\"translate(20 -40) scale(0.35 0.35)\">\n            <g>\n              <g>\n                <g>\n                  <g>\n                    <line x1=\"-100\" y1=\"0\" x2=\"100\" y2=\"0\" stroke-width=\"10\" />\n                    <ellipse cx=\"72\" cy=\"10\" rx=\"30.0\" ry=\"50.0\" stroke-width=\"5\" />\n                  </g>\n                  <rect x=\"-11.0\" y=\"5.0\" width=\"100\" height=\"90\" fill=\"white\" stroke=\"none\" />\n                </g>\n                <rect x=\"-44.0\" y=\"-95.0\" width=\"152\" height=\"90\" fill=\"white\" stroke=\"none\" />\n              </g>\n              <g>\n                <defs>\n                  <g id=\"shape2563556306176\" transform=\"scale(1 1) translate(146 0)\">\n                    <line x1=\"-90\" y1=\"20\" x2=\"-60\" y2=\"-10\" stroke-width=\"2\" />\n                    <line x1=\"-60\" y1=\"-10\" x2=\"-50\" y2=\"-20\" stroke-width=\"5\" />\n                  </g>\n                </defs>\n                <g>\n                  <use xlink:href=\"#shape2563556306176\" />\n                  <g transform=\"translate(-20 0)\">\n                    <use xlink:href=\"#shape2563556306176\" />\n                    <g transform=\"translate(-20 0)\">\n                      <use xlink:href=\"#shape2563556306176\" />\n                      <g transform=\"translate(-20 0)\">\n                        <use xlink:href=\"#shape2563556306176\" />\n                        <g transform=\"translate(-20 0)\">\n                          <use xlink:href=\"#shape2563556306176\" />\n                          <g transform=\"translate(-20 0)\">\n                            <use xlink:href=\"#shape2563556306176\" />\n                            <g transform=\"translate(-20 0)\">\n                              <use xlink:href=\"#shape2563556306176\" />\n                              <use xlink:href=\"#shape2563556306176\" transform=\"translate(-20 0)\" />\n                            </g>\n                          </g>\n                        </g>\n                      </g>\n                    </g>\n                  </g>\n                </g>\n              </g>\n            </g>\n            <polygon points=\"-100,0 -100,10 -130,0\" stroke-width=\"5\" fill=\"black\" transform=\"translate(0 -3)\" />\n          </g>\n          <circle cx=\"0\" cy=\"0\" r=\"84\" stroke-width=\"4\" stroke=\"green\" />\n        </g>\n        <g transform=\"translate(-45 -2) rotate(-30) scale(0.5 0.5)\">\n          <g transform=\"scale(0.5 0.5)\">\n            <ellipse cx=\"0\" cy=\"0\" rx=\"100.0\" ry=\"50.0\" stroke-width=\"9\" transform=\"rotate(90)\" />\n            <rect x=\"-35.0\" y=\"-105.0\" width=\"70\" height=\"210\" stroke=\"none\" fill=\"white\" transform=\"translate(20 0)\" />\n          </g>\n          <g transform=\"translate(-3 40) rotate(-30) scale(0.5 0.5)\">\n            <g transform=\"scale(0.7 0.7) translate(0 30)\">\n              <defs>\n                <g id=\"shape2563557416576\" transform=\"rotate(-20)\">\n                  <g>\n                    <line x1=\"0\" y1=\"0\" x2=\"125\" y2=\"0\" />\n                    <g>\n                      <defs>\n                        <g id=\"shape2563571297200\">\n                          <line x1=\"10\" y1=\"0\" x2=\"25\" y2=\"20\" />\n                          <line x1=\"10\" y1=\"0\" x2=\"25\" y2=\"-20\" />\n                        </g>\n                      </defs>\n                      <g>\n                        <use xlink:href=\"#shape2563571297200\" />\n                        <g transform=\"scale(0.98 0.98) translate(5 0)\">\n                          <use xlink:href=\"#shape2563571297200\" />\n                          <g transform=\"scale(0.98 0.98) translate(5 0)\">\n                            <use xlink:href=\"#shape2563571297200\" />\n                            <g transform=\"scale(0.98 0.98) translate(5 0)\">\n                              <use xlink:href=\"#shape2563571297200\" />\n                              <g transform=\"scale(0.98 0.98) translate(5 0)\">\n                                <use xlink:href=\"#shape2563571297200\" />\n                                <g transform=\"scale(0.98 0.98) translate(5 0)\">\n                                  <use xlink:href=\"#shape2563571297200\" />\n                                  <g transform=\"scale(0.98 0.98) translate(5 0)\">\n                                    <use xlink:href=\"#shape2563571297200\" />\n                                    <g transform=\"scale(0.98 0.98) translate(5 0)\">\n                                      <use xlink:href=\"#shape2563571297200\" />\n                                      <g transform=\"scale(0.98 0.98) translate(5 0)\">\n                                        <use xlink:href=\"#shape2563571297200\" />\n                                        <g transform=\"scale(0.98 0.98) translate(5 0)\">\n                                          <use xlink:href=\"#shape2563571297200\" />\n                                          <g transform=\"scale(0.98 0.98) translate(5 0)\">\n                                            <use xlink:href=\"#shape2563571297200\" />\n                                            <g transform=\"scale(0.98 0.98) translate(5 0)\">\n                                              <use xlink:href=\"#shape2563571297200\" />\n                                              <g transform=\"scale(0.98 0.98) translate(5 0)\">\n                                                <use xlink:href=\"#shape2563571297200\" />\n                                                <g transform=\"scale(0.98 0.98) translate(5 0)\">\n                                                  <use xlink:href=\"#shape2563571297200\" />\n                                                  <g transform=\"scale(0.98 0.98) translate(5 0)\">\n                                                    <use xlink:href=\"#shape2563571297200\" />\n                                                    <g transform=\"scale(0.98 0.98) translate(5 0)\">\n                                                      <use xlink:href=\"#shape2563571297200\" />\n                                                      <g transform=\"scale(0.98 0.98) translate(5 0)\">\n                                                        <use xlink:href=\"#shape2563571297200\" />\n                                                        <g transform=\"scale(0.98 0.98) translate(5 0)\">\n                                                          <use xlink:href=\"#shape2563571297200\" />\n                                                          <g transform=\"scale(0.98 0.98) translate(5 0)\">\n                                                            <use xlink:href=\"#shape2563571297200\" />\n                                                            <g transform=\"scale(0.98 0.98) translate(5 0)\">\n                                                              <use xlink:href=\"#shape2563571297200\" />\n                                                              <g transform=\"scale(0.98 0.98) translate(5 0)\">\n                                                                <use xlink:href=\"#shape2563571297200\" />\n                                                                <g transform=\"scale(0.98 0.98) translate(5 0)\">\n                                                                  <use xlink:href=\"#shape2563571297200\" />\n                                                                  <g transform=\"scale(0.98 0.98) translate(5 0)\">\n                                                                    <use xlink:href=\"#shape2563571297200\" />\n                                                                    <g transform=\"scale(0.98 0.98) translate(5 0)\">\n                                                                      <use xlink:href=\"#shape2563571297200\" />\n                                                                      <g transform=\"scale(0.98 0.98) translate(5 0)\">\n                                                                        <use xlink:href=\"#shape2563571297200\" />\n                                                                        <use xlink:href=\"#shape2563571297200\" transform=\"scale(0.98 0.98) translate(5 0)\" />\n                                                                      </g>\n                                                                    </g>\n                                                                  </g>\n                                                                </g>\n                                                              </g>\n                                                            </g>\n                                                          </g>\n                                                        </g>\n                                                      </g>\n                                                    </g>\n                                                  </g>\n                                                </g>\n                                              </g>\n                                            </g>\n                                          </g>\n                                        </g>\n                                      </g>\n                                    </g>\n                                  </g>\n                                </g>\n                              </g>\n                            </g>\n                          </g>\n                        </g>\n                      </g>\n                    </g>\n                  </g>\n                  <g>\n                    <defs>\n                      <g id=\"shape2563571296576\">\n                        <line x1=\"105\" y1=\"0\" x2=\"115\" y2=\"10\" />\n                        <line x1=\"105\" y1=\"0\" x2=\"115\" y2=\"-10\" />\n                      </g>\n                    </defs>\n                    <g>\n                      <use xlink:href=\"#shape2563571296576\" />\n                      <g transform=\"scale(0.98 0.98) translate(5 0)\">\n                        <use xlink:href=\"#shape2563571296576\" />\n                        <g transform=\"scale(0.98 0.98) translate(5 0)\">\n                          <use xlink:href=\"#shape2563571296576\" />\n                          <g transform=\"scale(0.98 0.98) translate(5 0)\">\n                            <use xlink:href=\"#shape2563571296576\" />\n                            <g transform=\"scale(0.98 0.98) translate(5 0)\">\n                              <use xlink:href=\"#shape2563571296576\" />\n                              <g transform=\"scale(0.98 0.98) translate(5 0)\">\n                                <use xlink:href=\"#shape2563571296576\" />\n                                <g transform=\"scale(0.98 0.98) translate(5 0)\">\n                                  <use xlink:href=\"#shape2563571296576\" />\n                                  <use xlink:href=\"#shape2563571296576\" transform=\"scale(0.98 0.98) translate(5 0)\" />\n                                </g>\n                              </g>\n                            </g>\n                          </g>\n                        </g>\n                      </g>\n                    </g>\n                  </g>\n                </g>\n              </defs>\n              <g>\n                <use xlink:href=\"#shape2563557416576\" />\n                <use xlink:href=\"#shape2563557416576\" transform=\"translate(-10 0) rotate(220)\" />\n              </g>\n            </g>\n            <g>\n              <defs>\n                <g id=\"shape2563557416576\" transform=\"rotate(-80) scale(0.5 0.5)\">\n                  <g>\n                    <line x1=\"0\" y1=\"0\" x2=\"125\" y2=\"0\" />\n                    <g>\n                      <defs>\n                        <g id=\"shape2563571297200\">\n                          <line x1=\"10\" y1=\"0\" x2=\"25\" y2=\"20\" />\n                          <line x1=\"10\" y1=\"0\" x2=\"25\" y2=\"-20\" />\n                        </g>\n                      </defs>\n                      <g>\n                        <use xlink:href=\"#shape2563571297200\" />\n                        <g transform=\"scale(0.98 0.98) translate(5 0)\">\n                          <use xlink:href=\"#shape2563571297200\" />\n                          <g transform=\"scale(0.98 0.98) translate(5 0)\">\n                            <use xlink:href=\"#shape2563571297200\" />\n                            <g transform=\"scale(0.98 0.98) translate(5 0)\">\n                              <use xlink:href=\"#shape2563571297200\" />\n                              <g transform=\"scale(0.98 0.98) translate(5 0)\">\n                                <use xlink:href=\"#shape2563571297200\" />\n                                <g transform=\"scale(0.98 0.98) translate(5 0)\">\n                                  <use xlink:href=\"#shape2563571297200\" />\n                                  <g transform=\"scale(0.98 0.98) translate(5 0)\">\n                                    <use xlink:href=\"#shape2563571297200\" />\n                                    <g transform=\"scale(0.98 0.98) translate(5 0)\">\n                                      <use xlink:href=\"#shape2563571297200\" />\n                                      <g transform=\"scale(0.98 0.98) translate(5 0)\">\n                                        <use xlink:href=\"#shape2563571297200\" />\n                                        <g transform=\"scale(0.98 0.98) translate(5 0)\">\n                                          <use xlink:href=\"#shape2563571297200\" />\n                                          <g transform=\"scale(0.98 0.98) translate(5 0)\">\n                                            <use xlink:href=\"#shape2563571297200\" />\n                                            <g transform=\"scale(0.98 0.98) translate(5 0)\">\n                                              <use xlink:href=\"#shape2563571297200\" />\n                                              <g transform=\"scale(0.98 0.98) translate(5 0)\">\n                                                <use xlink:href=\"#shape2563571297200\" />\n                                                <g transform=\"scale(0.98 0.98) translate(5 0)\">\n                                                  <use xlink:href=\"#shape2563571297200\" />\n                                                  <g transform=\"scale(0.98 0.98) translate(5 0)\">\n                                                    <use xlink:href=\"#shape2563571297200\" />\n                                                    <g transform=\"scale(0.98 0.98) translate(5 0)\">\n                                                      <use xlink:href=\"#shape2563571297200\" />\n                                                      <g transform=\"scale(0.98 0.98) translate(5 0)\">\n                                                        <use xlink:href=\"#shape2563571297200\" />\n                                                        <g transform=\"scale(0.98 0.98) translate(5 0)\">\n                                                          <use xlink:href=\"#shape2563571297200\" />\n                                                          <g transform=\"scale(0.98 0.98) translate(5 0)\">\n                                                            <use xlink:href=\"#shape2563571297200\" />\n                                                            <g transform=\"scale(0.98 0.98) translate(5 0)\">\n                                                              <use xlink:href=\"#shape2563571297200\" />\n                                                              <g transform=\"scale(0.98 0.98) translate(5 0)\">\n                                                                <use xlink:href=\"#shape2563571297200\" />\n                                                                <g transform=\"scale(0.98 0.98) translate(5 0)\">\n                                                                  <use xlink:href=\"#shape2563571297200\" />\n                                                                  <g transform=\"scale(0.98 0.98) translate(5 0)\">\n                                                                    <use xlink:href=\"#shape2563571297200\" />\n                                                                    <g transform=\"scale(0.98 0.98) translate(5 0)\">\n                                                                      <use xlink:href=\"#shape2563571297200\" />\n                                                                      <g transform=\"scale(0.98 0.98) translate(5 0)\">\n                                                                        <use xlink:href=\"#shape2563571297200\" />\n                                                                        <use xlink:href=\"#shape2563571297200\" transform=\"scale(0.98 0.98) translate(5 0)\" />\n                                                                      </g>\n                                                                    </g>\n                                                                  </g>\n                                                                </g>\n                                                              </g>\n                                                            </g>\n                                                          </g>\n                                                        </g>\n                                                      </g>\n                                                    </g>\n                                                  </g>\n                                                </g>\n                                              </g>\n                                            </g>\n                                          </g>\n                                        </g>\n                                      </g>\n                                    </g>\n                                  </g>\n                                </g>\n                              </g>\n                            </g>\n                          </g>\n                        </g>\n                      </g>\n                    </g>\n                  </g>\n                  <g>\n                    <defs>\n                      <g id=\"shape2563571296576\">\n                        <line x1=\"105\" y1=\"0\" x2=\"115\" y2=\"10\" />\n                        <line x1=\"105\" y1=\"0\" x2=\"115\" y2=\"-10\" />\n                      </g>\n                    </defs>\n                    <g>\n                      <use xlink:href=\"#shape2563571296576\" />\n                      <g transform=\"scale(0.98 0.98) translate(5 0)\">\n                        <use xlink:href=\"#shape2563571296576\" />\n                        <g transform=\"scale(0.98 0.98) translate(5 0)\">\n                          <use xlink:href=\"#shape2563571296576\" />\n                          <g transform=\"scale(0.98 0.98) translate(5 0)\">\n                            <use xlink:href=\"#shape2563571296576\" />\n                            <g transform=\"scale(0.98 0.98) translate(5 0)\">\n                              <use xlink:href=\"#shape2563571296576\" />\n                              <g transform=\"scale(0.98 0.98) translate(5 0)\">\n                                <use xlink:href=\"#shape2563571296576\" />\n                                <g transform=\"scale(0.98 0.98) translate(5 0)\">\n                                  <use xlink:href=\"#shape2563571296576\" />\n                                  <use xlink:href=\"#shape2563571296576\" transform=\"scale(0.98 0.98) translate(5 0)\" />\n                                </g>\n                              </g>\n                            </g>\n                          </g>\n                        </g>\n                      </g>\n                    </g>\n                  </g>\n                </g>\n              </defs>\n              <g>\n                <use xlink:href=\"#shape2563557416576\" />\n                <use xlink:href=\"#shape2563557416576\" transform=\"translate(-10 0) rotate(230)\" />\n              </g>\n            </g>\n          </g>\n        </g>\n      </g>\n      <g transform=\"translate(15 30) scale(0.7 0.7) translate(20 -40) scale(0.35 0.35)\">\n        <g>\n          <g>\n            <g>\n              <g>\n                <line x1=\"-100\" y1=\"0\" x2=\"100\" y2=\"0\" stroke-width=\"10\" />\n                <ellipse cx=\"72\" cy=\"10\" rx=\"30.0\" ry=\"50.0\" stroke-width=\"5\" />\n              </g>\n              <rect x=\"-11.0\" y=\"5.0\" width=\"100\" height=\"90\" fill=\"white\" stroke=\"none\" />\n            </g>\n            <rect x=\"-44.0\" y=\"-95.0\" width=\"152\" height=\"90\" fill=\"white\" stroke=\"none\" />\n          </g>\n          <g>\n            <defs>\n              <g id=\"shape2563556306176\" transform=\"scale(1 1) translate(146 0)\">\n                <line x1=\"-90\" y1=\"20\" x2=\"-60\" y2=\"-10\" stroke-width=\"2\" />\n                <line x1=\"-60\" y1=\"-10\" x2=\"-50\" y2=\"-20\" stroke-width=\"5\" />\n              </g>\n            </defs>\n            <g>\n              <use xlink:href=\"#shape2563556306176\" />\n              <g transform=\"translate(-20 0)\">\n                <use xlink:href=\"#shape2563556306176\" />\n                <g transform=\"translate(-20 0)\">\n                  <use xlink:href=\"#shape2563556306176\" />\n                  <g transform=\"translate(-20 0)\">\n                    <use xlink:href=\"#shape2563556306176\" />\n                    <g transform=\"translate(-20 0)\">\n                      <use xlink:href=\"#shape2563556306176\" />\n                      <g transform=\"translate(-20 0)\">\n                        <use xlink:href=\"#shape2563556306176\" />\n                        <g transform=\"translate(-20 0)\">\n                          <use xlink:href=\"#shape2563556306176\" />\n                          <use xlink:href=\"#shape2563556306176\" transform=\"translate(-20 0)\" />\n                        </g>\n                      </g>\n                    </g>\n                  </g>\n                </g>\n              </g>\n            </g>\n          </g>\n        </g>\n        <polygon points=\"-100,0 -100,10 -130,0\" stroke-width=\"5\" fill=\"black\" transform=\"translate(0 -3)\" />\n      </g>\n    </g>\n    <circle cx=\"10\" cy=\"50\" r=\"10\" />\n  </g>\n</g>\n</svg>\n"
     },
     "metadata": {}
    }
   ],
   "metadata": {}
  },
  {
   "cell_type": "code",
   "execution_count": 239,
   "source": [
    "main = line(x1=0,y1=0,x2=125,y2=0)\r\n",
    "\r\n",
    "lin1 = line(x1=10,y1=0,x2=25,y2=20)\r\n",
    "lin2 = line(x1=10, y1=0, x2=25, y2=-20)\r\n",
    "lin = lin1+lin2\r\n",
    "\r\n",
    "Lin1 = line(x1=105,y1=0,x2=115,y2=10)\r\n",
    "Lin2 = line(x1=105,y1=0,x2=115,y2=-10)\r\n",
    "Lin = Lin1+Lin2\r\n",
    "\r\n",
    "lin_final = lin | repeat(26, translate(x=5) | scale(.98))\r\n",
    "Lin_final = Lin | repeat(8, translate(x=5) | scale(.98)) \r\n",
    "\r\n",
    "leaf = main + lin_final + Lin_final \r\n",
    "leafs1 = leaf | scale(.5) | rotate(-40) | repeat(2, rotate(220) | translate(x=-10))\r\n",
    "leafs2 = leaf | rotate(-20) | repeat(2, rotate(220) | translate(x=-10))  | translate(x=0, y=30)  | scale(.7) \r\n",
    "leafs_final = leafs2 + leafs1 | scale(.5)\r\n",
    "show(leafs_final)"
   ],
   "outputs": [
    {
     "output_type": "display_data",
     "data": {
      "text/plain": [
       "SVG:{self.nodes}"
      ],
      "image/svg+xml": "<svg width=\"300\" height=\"300\" viewBox=\"-150 -150 300 300\" fill=\"none\" stroke=\"black\" xmlns=\"http://www.w3.org/2000/svg\" xmlns:xlink=\"http://www.w3.org/1999/xlink\">\n<g transform=\"scale(1 -1)\">\n  <rect x=\"-150.0\" y=\"-150.0\" width=\"300\" height=\"300\" stroke=\"#ddd\" />\n  <line x1=\"-150\" y1=\"0\" x2=\"150\" y2=\"0\" stroke=\"#ddd\" />\n  <line x1=\"0\" y1=\"-150\" x2=\"0\" y2=\"150\" stroke=\"#ddd\" />\n  <g transform=\"scale(0.5 0.5)\">\n    <g transform=\"scale(0.7 0.7) translate(0 30)\">\n      <defs>\n        <g id=\"shape2563570216192\" transform=\"rotate(-20)\">\n          <g>\n            <line x1=\"0\" y1=\"0\" x2=\"125\" y2=\"0\" />\n            <g>\n              <defs>\n                <g id=\"shape2563571043440\">\n                  <line x1=\"10\" y1=\"0\" x2=\"25\" y2=\"20\" />\n                  <line x1=\"10\" y1=\"0\" x2=\"25\" y2=\"-20\" />\n                </g>\n              </defs>\n              <g>\n                <use xlink:href=\"#shape2563571043440\" />\n                <g transform=\"scale(0.98 0.98) translate(5 0)\">\n                  <use xlink:href=\"#shape2563571043440\" />\n                  <g transform=\"scale(0.98 0.98) translate(5 0)\">\n                    <use xlink:href=\"#shape2563571043440\" />\n                    <g transform=\"scale(0.98 0.98) translate(5 0)\">\n                      <use xlink:href=\"#shape2563571043440\" />\n                      <g transform=\"scale(0.98 0.98) translate(5 0)\">\n                        <use xlink:href=\"#shape2563571043440\" />\n                        <g transform=\"scale(0.98 0.98) translate(5 0)\">\n                          <use xlink:href=\"#shape2563571043440\" />\n                          <g transform=\"scale(0.98 0.98) translate(5 0)\">\n                            <use xlink:href=\"#shape2563571043440\" />\n                            <g transform=\"scale(0.98 0.98) translate(5 0)\">\n                              <use xlink:href=\"#shape2563571043440\" />\n                              <g transform=\"scale(0.98 0.98) translate(5 0)\">\n                                <use xlink:href=\"#shape2563571043440\" />\n                                <g transform=\"scale(0.98 0.98) translate(5 0)\">\n                                  <use xlink:href=\"#shape2563571043440\" />\n                                  <g transform=\"scale(0.98 0.98) translate(5 0)\">\n                                    <use xlink:href=\"#shape2563571043440\" />\n                                    <g transform=\"scale(0.98 0.98) translate(5 0)\">\n                                      <use xlink:href=\"#shape2563571043440\" />\n                                      <g transform=\"scale(0.98 0.98) translate(5 0)\">\n                                        <use xlink:href=\"#shape2563571043440\" />\n                                        <g transform=\"scale(0.98 0.98) translate(5 0)\">\n                                          <use xlink:href=\"#shape2563571043440\" />\n                                          <g transform=\"scale(0.98 0.98) translate(5 0)\">\n                                            <use xlink:href=\"#shape2563571043440\" />\n                                            <g transform=\"scale(0.98 0.98) translate(5 0)\">\n                                              <use xlink:href=\"#shape2563571043440\" />\n                                              <g transform=\"scale(0.98 0.98) translate(5 0)\">\n                                                <use xlink:href=\"#shape2563571043440\" />\n                                                <g transform=\"scale(0.98 0.98) translate(5 0)\">\n                                                  <use xlink:href=\"#shape2563571043440\" />\n                                                  <g transform=\"scale(0.98 0.98) translate(5 0)\">\n                                                    <use xlink:href=\"#shape2563571043440\" />\n                                                    <g transform=\"scale(0.98 0.98) translate(5 0)\">\n                                                      <use xlink:href=\"#shape2563571043440\" />\n                                                      <g transform=\"scale(0.98 0.98) translate(5 0)\">\n                                                        <use xlink:href=\"#shape2563571043440\" />\n                                                        <g transform=\"scale(0.98 0.98) translate(5 0)\">\n                                                          <use xlink:href=\"#shape2563571043440\" />\n                                                          <g transform=\"scale(0.98 0.98) translate(5 0)\">\n                                                            <use xlink:href=\"#shape2563571043440\" />\n                                                            <g transform=\"scale(0.98 0.98) translate(5 0)\">\n                                                              <use xlink:href=\"#shape2563571043440\" />\n                                                              <g transform=\"scale(0.98 0.98) translate(5 0)\">\n                                                                <use xlink:href=\"#shape2563571043440\" />\n                                                                <use xlink:href=\"#shape2563571043440\" transform=\"scale(0.98 0.98) translate(5 0)\" />\n                                                              </g>\n                                                            </g>\n                                                          </g>\n                                                        </g>\n                                                      </g>\n                                                    </g>\n                                                  </g>\n                                                </g>\n                                              </g>\n                                            </g>\n                                          </g>\n                                        </g>\n                                      </g>\n                                    </g>\n                                  </g>\n                                </g>\n                              </g>\n                            </g>\n                          </g>\n                        </g>\n                      </g>\n                    </g>\n                  </g>\n                </g>\n              </g>\n            </g>\n          </g>\n          <g>\n            <defs>\n              <g id=\"shape2563570206800\">\n                <line x1=\"105\" y1=\"0\" x2=\"115\" y2=\"10\" />\n                <line x1=\"105\" y1=\"0\" x2=\"115\" y2=\"-10\" />\n              </g>\n            </defs>\n            <g>\n              <use xlink:href=\"#shape2563570206800\" />\n              <g transform=\"scale(0.98 0.98) translate(5 0)\">\n                <use xlink:href=\"#shape2563570206800\" />\n                <g transform=\"scale(0.98 0.98) translate(5 0)\">\n                  <use xlink:href=\"#shape2563570206800\" />\n                  <g transform=\"scale(0.98 0.98) translate(5 0)\">\n                    <use xlink:href=\"#shape2563570206800\" />\n                    <g transform=\"scale(0.98 0.98) translate(5 0)\">\n                      <use xlink:href=\"#shape2563570206800\" />\n                      <g transform=\"scale(0.98 0.98) translate(5 0)\">\n                        <use xlink:href=\"#shape2563570206800\" />\n                        <g transform=\"scale(0.98 0.98) translate(5 0)\">\n                          <use xlink:href=\"#shape2563570206800\" />\n                          <use xlink:href=\"#shape2563570206800\" transform=\"scale(0.98 0.98) translate(5 0)\" />\n                        </g>\n                      </g>\n                    </g>\n                  </g>\n                </g>\n              </g>\n            </g>\n          </g>\n        </g>\n      </defs>\n      <g>\n        <use xlink:href=\"#shape2563570216192\" />\n        <use xlink:href=\"#shape2563570216192\" transform=\"translate(-10 0) rotate(220)\" />\n      </g>\n    </g>\n    <g>\n      <defs>\n        <g id=\"shape2563570216192\" transform=\"rotate(-40) scale(0.5 0.5)\">\n          <g>\n            <line x1=\"0\" y1=\"0\" x2=\"125\" y2=\"0\" />\n            <g>\n              <defs>\n                <g id=\"shape2563571043440\">\n                  <line x1=\"10\" y1=\"0\" x2=\"25\" y2=\"20\" />\n                  <line x1=\"10\" y1=\"0\" x2=\"25\" y2=\"-20\" />\n                </g>\n              </defs>\n              <g>\n                <use xlink:href=\"#shape2563571043440\" />\n                <g transform=\"scale(0.98 0.98) translate(5 0)\">\n                  <use xlink:href=\"#shape2563571043440\" />\n                  <g transform=\"scale(0.98 0.98) translate(5 0)\">\n                    <use xlink:href=\"#shape2563571043440\" />\n                    <g transform=\"scale(0.98 0.98) translate(5 0)\">\n                      <use xlink:href=\"#shape2563571043440\" />\n                      <g transform=\"scale(0.98 0.98) translate(5 0)\">\n                        <use xlink:href=\"#shape2563571043440\" />\n                        <g transform=\"scale(0.98 0.98) translate(5 0)\">\n                          <use xlink:href=\"#shape2563571043440\" />\n                          <g transform=\"scale(0.98 0.98) translate(5 0)\">\n                            <use xlink:href=\"#shape2563571043440\" />\n                            <g transform=\"scale(0.98 0.98) translate(5 0)\">\n                              <use xlink:href=\"#shape2563571043440\" />\n                              <g transform=\"scale(0.98 0.98) translate(5 0)\">\n                                <use xlink:href=\"#shape2563571043440\" />\n                                <g transform=\"scale(0.98 0.98) translate(5 0)\">\n                                  <use xlink:href=\"#shape2563571043440\" />\n                                  <g transform=\"scale(0.98 0.98) translate(5 0)\">\n                                    <use xlink:href=\"#shape2563571043440\" />\n                                    <g transform=\"scale(0.98 0.98) translate(5 0)\">\n                                      <use xlink:href=\"#shape2563571043440\" />\n                                      <g transform=\"scale(0.98 0.98) translate(5 0)\">\n                                        <use xlink:href=\"#shape2563571043440\" />\n                                        <g transform=\"scale(0.98 0.98) translate(5 0)\">\n                                          <use xlink:href=\"#shape2563571043440\" />\n                                          <g transform=\"scale(0.98 0.98) translate(5 0)\">\n                                            <use xlink:href=\"#shape2563571043440\" />\n                                            <g transform=\"scale(0.98 0.98) translate(5 0)\">\n                                              <use xlink:href=\"#shape2563571043440\" />\n                                              <g transform=\"scale(0.98 0.98) translate(5 0)\">\n                                                <use xlink:href=\"#shape2563571043440\" />\n                                                <g transform=\"scale(0.98 0.98) translate(5 0)\">\n                                                  <use xlink:href=\"#shape2563571043440\" />\n                                                  <g transform=\"scale(0.98 0.98) translate(5 0)\">\n                                                    <use xlink:href=\"#shape2563571043440\" />\n                                                    <g transform=\"scale(0.98 0.98) translate(5 0)\">\n                                                      <use xlink:href=\"#shape2563571043440\" />\n                                                      <g transform=\"scale(0.98 0.98) translate(5 0)\">\n                                                        <use xlink:href=\"#shape2563571043440\" />\n                                                        <g transform=\"scale(0.98 0.98) translate(5 0)\">\n                                                          <use xlink:href=\"#shape2563571043440\" />\n                                                          <g transform=\"scale(0.98 0.98) translate(5 0)\">\n                                                            <use xlink:href=\"#shape2563571043440\" />\n                                                            <g transform=\"scale(0.98 0.98) translate(5 0)\">\n                                                              <use xlink:href=\"#shape2563571043440\" />\n                                                              <g transform=\"scale(0.98 0.98) translate(5 0)\">\n                                                                <use xlink:href=\"#shape2563571043440\" />\n                                                                <use xlink:href=\"#shape2563571043440\" transform=\"scale(0.98 0.98) translate(5 0)\" />\n                                                              </g>\n                                                            </g>\n                                                          </g>\n                                                        </g>\n                                                      </g>\n                                                    </g>\n                                                  </g>\n                                                </g>\n                                              </g>\n                                            </g>\n                                          </g>\n                                        </g>\n                                      </g>\n                                    </g>\n                                  </g>\n                                </g>\n                              </g>\n                            </g>\n                          </g>\n                        </g>\n                      </g>\n                    </g>\n                  </g>\n                </g>\n              </g>\n            </g>\n          </g>\n          <g>\n            <defs>\n              <g id=\"shape2563570206800\">\n                <line x1=\"105\" y1=\"0\" x2=\"115\" y2=\"10\" />\n                <line x1=\"105\" y1=\"0\" x2=\"115\" y2=\"-10\" />\n              </g>\n            </defs>\n            <g>\n              <use xlink:href=\"#shape2563570206800\" />\n              <g transform=\"scale(0.98 0.98) translate(5 0)\">\n                <use xlink:href=\"#shape2563570206800\" />\n                <g transform=\"scale(0.98 0.98) translate(5 0)\">\n                  <use xlink:href=\"#shape2563570206800\" />\n                  <g transform=\"scale(0.98 0.98) translate(5 0)\">\n                    <use xlink:href=\"#shape2563570206800\" />\n                    <g transform=\"scale(0.98 0.98) translate(5 0)\">\n                      <use xlink:href=\"#shape2563570206800\" />\n                      <g transform=\"scale(0.98 0.98) translate(5 0)\">\n                        <use xlink:href=\"#shape2563570206800\" />\n                        <g transform=\"scale(0.98 0.98) translate(5 0)\">\n                          <use xlink:href=\"#shape2563570206800\" />\n                          <use xlink:href=\"#shape2563570206800\" transform=\"scale(0.98 0.98) translate(5 0)\" />\n                        </g>\n                      </g>\n                    </g>\n                  </g>\n                </g>\n              </g>\n            </g>\n          </g>\n        </g>\n      </defs>\n      <g>\n        <use xlink:href=\"#shape2563570216192\" />\n        <use xlink:href=\"#shape2563570216192\" transform=\"translate(-10 0) rotate(220)\" />\n      </g>\n    </g>\n  </g>\n</g>\n</svg>\n"
     },
     "metadata": {}
    }
   ],
   "metadata": {}
  },
  {
   "cell_type": "code",
   "execution_count": 175,
   "source": [
    "from joy import *\r\n",
    "\r\n",
    "#head\r\n",
    "e1 = ellipse(fill='white') | translate(y=-70)\r\n",
    "e2 = ellipse(w=200, h=150, fill='green', stroke='none') | rotate(90)\r\n",
    "r1 = rectangle(w=140, h=20, fill='red', stroke='none') | translate(y=55)\r\n",
    "\r\n",
    "#forehead\r\n",
    "p1 = point(x=-30, y=50)\r\n",
    "p2 = point(x=0, y=45)\r\n",
    "p3 = point(x=30, y=50)\r\n",
    "p4 = point(x=30, y=40)\r\n",
    "p5 = point(x=0, y=20)\r\n",
    "p6 = point(x=-30, y=40)\r\n",
    "shape = polygon([p1, p2, p3, p4, p5, p6], fill='yellow', stroke='none') | translate(y=-10)\r\n",
    "\r\n",
    "c = circle(r=4, fill='red', stroke='none') | translate(y=28) | repeat(2, translate(y=-25))\r\n",
    "lin = line(x1=7, y1=18, x2=-7, y2=18, stroke='white', stroke_width=6)\r\n",
    "\r\n",
    "head = e1 + e2+ r1 + shape + c + lin\r\n",
    "\r\n",
    "#ears\r\n",
    "c1 = circle(r=25,fill='orange', stroke='green', stroke_width=4)\r\n",
    "c2 = circle(r=10, stroke='red', stroke_width=10)\r\n",
    "c3 = circle(r=5, stroke='white', stroke_width=3)\r\n",
    "upper_ear = (c1 + c2 + c3 ) | translate(y=50)\r\n",
    "\r\n",
    "c1 = circle(r=40,fill='yellow', stroke='green', stroke_width=4)\r\n",
    "c2 = circle(r=4, x=0,  y=30, fill='red', stroke='none') | repeat(12, rotate(30))\r\n",
    "c3 = circle(r=22, stroke='white', stroke_width=3)\r\n",
    "c4 = circle(r=15, stroke_width=10, stroke='red')\r\n",
    "lower_ear = (c1 + c2 +c3 + c4) \r\n",
    "\r\n",
    "ears = (upper_ear + lower_ear) | translate(x=-90, y=-5) | repeat(2, translate(x=180))\r\n",
    "\r\n",
    "#eyes\r\n",
    "e1 = ellipse(w=80, h=40, fill='black') | translate(x=-8, y=-5)\r\n",
    "e2 = ellipse(w=50, h=20, fill='white', stroke='none')\r\n",
    "c1 = circle(r=6, fill='grey')\r\n",
    "c2 = circle(r=2, fill='black')\r\n",
    "eye1 = (e1 + e2 + c1 + c2) | scale(.65) | translate(x=-50)\r\n",
    "\r\n",
    "e1 = ellipse(w=80, h=40, fill='black') | translate(x=8, y=-5)\r\n",
    "e2 = ellipse(w=50, h=20, fill='white', stroke='none')\r\n",
    "c1 = circle(r=6, fill='grey')\r\n",
    "c2 = circle(r=2, fill='black')\r\n",
    "eye2 = (e1 + e2 + c1 + c2) | scale(.65) | translate(x=50)\r\n",
    "\r\n",
    "eyes = (eye1 + eye2) | scale(.6) | translate(y=-4)\r\n",
    "\r\n",
    "#nose \r\n",
    "p1 = point(x=-10, y=0)\r\n",
    "p2 = point(x=-10, y=-50)\r\n",
    "p3 = point(x=0, y=-55)\r\n",
    "p4 = point(x=10, y=-50)\r\n",
    "p5 = point(x=10, y=0)\r\n",
    "shape = polygon([p1, p2, p3, p4, p5]) | translate(y=-5)\r\n",
    "lin = line(x1=-10, y1=0, x2=10, y2=0, stroke='green') | translate(y=-5)\r\n",
    "nose = shape +lin\r\n",
    "\r\n",
    "#mouth\r\n",
    "e1 = ellipse(w=60, h=10, fill='red', stroke='none')\r\n",
    "e2 = ellipse(w=20, h=10, fill='red', stroke='none') | translate(x=-35, y=-15) | rotate(-30)\r\n",
    "e3 = e2 | rotate(-130) | translate(x=10, y=-24)\r\n",
    "mouth = (e1 + e2 + e3) | translate(y=-70)\r\n",
    "\r\n",
    "#hat\r\n",
    "p1 = point(x=-20, y=0)\r\n",
    "p2 = point(x=20, y=0)\r\n",
    "p3 = point(x=0, y=40)\r\n",
    "\r\n",
    "e1 = ellipse(h=50, w=150, fill='orange', stroke='green', stroke_width=5) | translate(y=-100)       #| translate(y=75)\r\n",
    "e2 = ellipse(h=50, w=140, fill='red', stroke='green', stroke_width=5) | translate(y=-80)\r\n",
    "e3 = ellipse(h=50, w=130, fill='orange', stroke='green', stroke_width=5) | translate(y=-60)\r\n",
    "e4 = ellipse(h=50, w=120, fill='orange', stroke='green', stroke_width=5) | translate(y=-40)\r\n",
    "e5 = ellipse(h=50, w=110, fill='orange', stroke='green', stroke_width=5) | translate(y=-20)\r\n",
    "e6 = ellipse(h=50, w=100, fill='orange', stroke='green', stroke_width=5) | translate(y=0)\r\n",
    "e7 = ellipse(h=50, w=90, fill='orange', stroke='green', stroke_width=5) | translate(y=20)\r\n",
    "e8 = ellipse(h=50, w=80, fill='orange', stroke='green', stroke_width=5) | translate(y=40)\r\n",
    "e9 = ellipse(h=50, w=70, fill='orange', stroke='green', stroke_width=5) | translate(y=60)\r\n",
    "e10 = polygon([p1, p2, p3], fill='orange', stroke='green', stroke_width=5) | translate(y=97)     # it is a polygon\r\n",
    "e11 = ellipse(h=50, w=50, fill='orange', stroke='green', stroke_width=5) | translate(y=80)\r\n",
    "corn = (e1 + e2 + e3 + e4 + e5 + e6 + e7 + e8 + e9 + e10 + e11) | scale(.5) | translate(y=75)\r\n",
    "\r\n",
    "c1 = circle(r=140, fill='red', stroke='white')| translate(y=50)\r\n",
    "c2 = circle(r=120, stroke='white', stroke_width=3)| translate(y=50)\r\n",
    "c3 = circle(r=116, stroke='green', stroke_width=4, fill='yellow')| translate(y=50)\r\n",
    "c4 = circle(r=100, stroke='green', stroke_width=4, fill='blue')| translate(y=50)\r\n",
    "c5 = circle(r=80, stroke='green', stroke_width=4, fill='yellow')| translate(y=50)\r\n",
    "vattam = (c1 + c2 + c3 + c4 + c5) | scale(.5)\r\n",
    "\r\n",
    "face = (head + ears + eyes + nose + mouth) | translate(y=-30) | scale(.5)\r\n",
    "kathakali_face = (vattam + face + corn) | scale(.5)\r\n",
    "\r\n",
    "show(kathakali_face)"
   ],
   "outputs": [
    {
     "output_type": "display_data",
     "data": {
      "text/plain": [
       "SVG:{self.nodes}"
      ],
      "image/svg+xml": "<svg width=\"300\" height=\"300\" viewBox=\"-150 -150 300 300\" fill=\"none\" stroke=\"black\" xmlns=\"http://www.w3.org/2000/svg\" xmlns:xlink=\"http://www.w3.org/1999/xlink\">\n<g transform=\"scale(1 -1)\">\n  <rect x=\"-150.0\" y=\"-150.0\" width=\"300\" height=\"300\" stroke=\"#ddd\" />\n  <line x1=\"-150\" y1=\"0\" x2=\"150\" y2=\"0\" stroke=\"#ddd\" />\n  <line x1=\"0\" y1=\"-150\" x2=\"0\" y2=\"150\" stroke=\"#ddd\" />\n  <g transform=\"scale(0.5 0.5)\">\n    <g>\n      <g transform=\"scale(0.5 0.5)\">\n        <g>\n          <g>\n            <g>\n              <circle cx=\"0\" cy=\"0\" r=\"140\" fill=\"red\" stroke=\"white\" transform=\"translate(0 50)\" />\n              <circle cx=\"0\" cy=\"0\" r=\"120\" stroke=\"white\" stroke-width=\"3\" transform=\"translate(0 50)\" />\n            </g>\n            <circle cx=\"0\" cy=\"0\" r=\"116\" stroke=\"green\" stroke-width=\"4\" fill=\"yellow\" transform=\"translate(0 50)\" />\n          </g>\n          <circle cx=\"0\" cy=\"0\" r=\"100\" stroke=\"green\" stroke-width=\"4\" fill=\"blue\" transform=\"translate(0 50)\" />\n        </g>\n        <circle cx=\"0\" cy=\"0\" r=\"80\" stroke=\"green\" stroke-width=\"4\" fill=\"yellow\" transform=\"translate(0 50)\" />\n      </g>\n      <g transform=\"scale(0.5 0.5) translate(0 -30)\">\n        <g>\n          <g>\n            <g>\n              <g>\n                <g>\n                  <g>\n                    <g>\n                      <g>\n                        <ellipse cx=\"0\" cy=\"0\" rx=\"100.0\" ry=\"50.0\" fill=\"white\" transform=\"translate(0 -70)\" />\n                        <ellipse cx=\"0\" cy=\"0\" rx=\"100.0\" ry=\"75.0\" fill=\"green\" stroke=\"none\" transform=\"rotate(90)\" />\n                      </g>\n                      <rect x=\"-70.0\" y=\"-10.0\" width=\"140\" height=\"20\" fill=\"red\" stroke=\"none\" transform=\"translate(0 55)\" />\n                    </g>\n                    <polygon points=\"-30,50 0,45 30,50 30,40 0,20 -30,40\" fill=\"yellow\" stroke=\"none\" transform=\"translate(0 -10)\" />\n                  </g>\n                  <g>\n                    <defs>\n                      <circle cx=\"0\" cy=\"0\" r=\"4\" fill=\"red\" stroke=\"none\" id=\"shape2367598678464\" transform=\"translate(0 28)\" />\n                    </defs>\n                    <g>\n                      <use xlink:href=\"#shape2367598678464\" />\n                      <use xlink:href=\"#shape2367598678464\" transform=\"translate(0 -25)\" />\n                    </g>\n                  </g>\n                </g>\n                <line x1=\"7\" y1=\"18\" x2=\"-7\" y2=\"18\" stroke=\"white\" stroke-width=\"6\" />\n              </g>\n              <g>\n                <defs>\n                  <g id=\"shape2367598071136\" transform=\"translate(-90 -5)\">\n                    <g transform=\"translate(0 50)\">\n                      <g>\n                        <circle cx=\"0\" cy=\"0\" r=\"25\" fill=\"orange\" stroke=\"green\" stroke-width=\"4\" />\n                        <circle cx=\"0\" cy=\"0\" r=\"10\" stroke=\"red\" stroke-width=\"10\" />\n                      </g>\n                      <circle cx=\"0\" cy=\"0\" r=\"5\" stroke=\"white\" stroke-width=\"3\" />\n                    </g>\n                    <g>\n                      <g>\n                        <g>\n                          <circle cx=\"0\" cy=\"0\" r=\"40\" fill=\"yellow\" stroke=\"green\" stroke-width=\"4\" />\n                          <g>\n                            <defs>\n                              <circle cx=\"0\" cy=\"30\" r=\"4\" fill=\"red\" stroke=\"none\" id=\"shape2367584853056\" />\n                            </defs>\n                            <g>\n                              <use xlink:href=\"#shape2367584853056\" />\n                              <g transform=\"rotate(30)\">\n                                <use xlink:href=\"#shape2367584853056\" />\n                                <g transform=\"rotate(30)\">\n                                  <use xlink:href=\"#shape2367584853056\" />\n                                  <g transform=\"rotate(30)\">\n                                    <use xlink:href=\"#shape2367584853056\" />\n                                    <g transform=\"rotate(30)\">\n                                      <use xlink:href=\"#shape2367584853056\" />\n                                      <g transform=\"rotate(30)\">\n                                        <use xlink:href=\"#shape2367584853056\" />\n                                        <g transform=\"rotate(30)\">\n                                          <use xlink:href=\"#shape2367584853056\" />\n                                          <g transform=\"rotate(30)\">\n                                            <use xlink:href=\"#shape2367584853056\" />\n                                            <g transform=\"rotate(30)\">\n                                              <use xlink:href=\"#shape2367584853056\" />\n                                              <g transform=\"rotate(30)\">\n                                                <use xlink:href=\"#shape2367584853056\" />\n                                                <g transform=\"rotate(30)\">\n                                                  <use xlink:href=\"#shape2367584853056\" />\n                                                  <use xlink:href=\"#shape2367584853056\" transform=\"rotate(30)\" />\n                                                </g>\n                                              </g>\n                                            </g>\n                                          </g>\n                                        </g>\n                                      </g>\n                                    </g>\n                                  </g>\n                                </g>\n                              </g>\n                            </g>\n                          </g>\n                        </g>\n                        <circle cx=\"0\" cy=\"0\" r=\"22\" stroke=\"white\" stroke-width=\"3\" />\n                      </g>\n                      <circle cx=\"0\" cy=\"0\" r=\"15\" stroke-width=\"10\" stroke=\"red\" />\n                    </g>\n                  </g>\n                </defs>\n                <g>\n                  <use xlink:href=\"#shape2367598071136\" />\n                  <use xlink:href=\"#shape2367598071136\" transform=\"translate(180 0)\" />\n                </g>\n              </g>\n            </g>\n            <g transform=\"translate(0 -4) scale(0.6 0.6)\">\n              <g transform=\"translate(-50 0) scale(0.65 0.65)\">\n                <g>\n                  <g>\n                    <ellipse cx=\"0\" cy=\"0\" rx=\"40.0\" ry=\"20.0\" fill=\"black\" transform=\"translate(-8 -5)\" />\n                    <ellipse cx=\"0\" cy=\"0\" rx=\"25.0\" ry=\"10.0\" fill=\"white\" stroke=\"none\" />\n                  </g>\n                  <circle cx=\"0\" cy=\"0\" r=\"6\" fill=\"grey\" />\n                </g>\n                <circle cx=\"0\" cy=\"0\" r=\"2\" fill=\"black\" />\n              </g>\n              <g transform=\"translate(50 0) scale(0.65 0.65)\">\n                <g>\n                  <g>\n                    <ellipse cx=\"0\" cy=\"0\" rx=\"40.0\" ry=\"20.0\" fill=\"black\" transform=\"translate(8 -5)\" />\n                    <ellipse cx=\"0\" cy=\"0\" rx=\"25.0\" ry=\"10.0\" fill=\"white\" stroke=\"none\" />\n                  </g>\n                  <circle cx=\"0\" cy=\"0\" r=\"6\" fill=\"grey\" />\n                </g>\n                <circle cx=\"0\" cy=\"0\" r=\"2\" fill=\"black\" />\n              </g>\n            </g>\n          </g>\n          <g>\n            <polygon points=\"-10,0 -10,-50 0,-55 10,-50 10,0\" transform=\"translate(0 -5)\" />\n            <line x1=\"-10\" y1=\"0\" x2=\"10\" y2=\"0\" stroke=\"green\" transform=\"translate(0 -5)\" />\n          </g>\n        </g>\n        <g transform=\"translate(0 -70)\">\n          <g>\n            <ellipse cx=\"0\" cy=\"0\" rx=\"30.0\" ry=\"5.0\" fill=\"red\" stroke=\"none\" />\n            <ellipse cx=\"0\" cy=\"0\" rx=\"10.0\" ry=\"5.0\" fill=\"red\" stroke=\"none\" transform=\"rotate(-30) translate(-35 -15)\" />\n          </g>\n          <ellipse cx=\"0\" cy=\"0\" rx=\"10.0\" ry=\"5.0\" fill=\"red\" stroke=\"none\" transform=\"translate(10 -24) rotate(-130) rotate(-30) translate(-35 -15)\" />\n        </g>\n      </g>\n    </g>\n    <g transform=\"translate(0 75) scale(0.5 0.5)\">\n      <g>\n        <g>\n          <g>\n            <g>\n              <g>\n                <g>\n                  <g>\n                    <g>\n                      <g>\n                        <ellipse cx=\"0\" cy=\"0\" rx=\"75.0\" ry=\"25.0\" fill=\"orange\" stroke=\"green\" stroke-width=\"5\" transform=\"translate(0 -100)\" />\n                        <ellipse cx=\"0\" cy=\"0\" rx=\"70.0\" ry=\"25.0\" fill=\"red\" stroke=\"green\" stroke-width=\"5\" transform=\"translate(0 -80)\" />\n                      </g>\n                      <ellipse cx=\"0\" cy=\"0\" rx=\"65.0\" ry=\"25.0\" fill=\"orange\" stroke=\"green\" stroke-width=\"5\" transform=\"translate(0 -60)\" />\n                    </g>\n                    <ellipse cx=\"0\" cy=\"0\" rx=\"60.0\" ry=\"25.0\" fill=\"orange\" stroke=\"green\" stroke-width=\"5\" transform=\"translate(0 -40)\" />\n                  </g>\n                  <ellipse cx=\"0\" cy=\"0\" rx=\"55.0\" ry=\"25.0\" fill=\"orange\" stroke=\"green\" stroke-width=\"5\" transform=\"translate(0 -20)\" />\n                </g>\n                <ellipse cx=\"0\" cy=\"0\" rx=\"50.0\" ry=\"25.0\" fill=\"orange\" stroke=\"green\" stroke-width=\"5\" transform=\"translate(0 0)\" />\n              </g>\n              <ellipse cx=\"0\" cy=\"0\" rx=\"45.0\" ry=\"25.0\" fill=\"orange\" stroke=\"green\" stroke-width=\"5\" transform=\"translate(0 20)\" />\n            </g>\n            <ellipse cx=\"0\" cy=\"0\" rx=\"40.0\" ry=\"25.0\" fill=\"orange\" stroke=\"green\" stroke-width=\"5\" transform=\"translate(0 40)\" />\n          </g>\n          <ellipse cx=\"0\" cy=\"0\" rx=\"35.0\" ry=\"25.0\" fill=\"orange\" stroke=\"green\" stroke-width=\"5\" transform=\"translate(0 60)\" />\n        </g>\n        <polygon points=\"-20,0 20,0 0,40\" fill=\"orange\" stroke=\"green\" stroke-width=\"5\" transform=\"translate(0 97)\" />\n      </g>\n      <ellipse cx=\"0\" cy=\"0\" rx=\"25.0\" ry=\"25.0\" fill=\"orange\" stroke=\"green\" stroke-width=\"5\" transform=\"translate(0 80)\" />\n    </g>\n  </g>\n</g>\n</svg>\n"
     },
     "metadata": {}
    }
   ],
   "metadata": {}
  },
  {
   "cell_type": "code",
   "execution_count": 161,
   "source": [
    "p1 = point(x=-20, y=0)\r\n",
    "p2 = point(x=20, y=0)\r\n",
    "p3 = point(x=0, y=40)\r\n",
    "\r\n",
    "e1 = ellipse(h=50, w=150, fill='orange', stroke='green', stroke_width=5) | translate(y=-100)       #| translate(y=75)\r\n",
    "e2 = ellipse(h=50, w=140, fill='red', stroke='green', stroke_width=5) | translate(y=-80)\r\n",
    "e3 = ellipse(h=50, w=130, fill='orange', stroke='green', stroke_width=5) | translate(y=-60)\r\n",
    "e4 = ellipse(h=50, w=120, fill='orange', stroke='green', stroke_width=5) | translate(y=-40)\r\n",
    "e5 = ellipse(h=50, w=110, fill='orange', stroke='green', stroke_width=5) | translate(y=-20)\r\n",
    "e6 = ellipse(h=50, w=100, fill='orange', stroke='green', stroke_width=5) | translate(y=0)\r\n",
    "e7 = ellipse(h=50, w=90, fill='orange', stroke='green', stroke_width=5) | translate(y=20)\r\n",
    "e8 = ellipse(h=50, w=80, fill='orange', stroke='green', stroke_width=5) | translate(y=40)\r\n",
    "e9 = ellipse(h=50, w=70, fill='orange', stroke='green', stroke_width=5) | translate(y=60)\r\n",
    "e10 = polygon([p1, p2, p3], fill='orange', stroke='green', stroke_width=5) | translate(y=97)     # it is a polygon\r\n",
    "e11 = ellipse(h=50, w=50, fill='orange', stroke='green', stroke_width=5) | translate(y=80)\r\n",
    "\r\n",
    "corn = (e1 + e2 + e3 + e4 + e5 + e6 + e7 + e8 + e9 + e10 + e11) #| scale(.5)\r\n",
    "\r\n",
    "c1 = circle(r=140, fill='red', stroke='white')| translate(y=50)\r\n",
    "c2 = circle(r=120, stroke='white', stroke_width=3)| translate(y=50)\r\n",
    "c3 = circle(r=116, stroke='green', stroke_width=4, fill='yellow')| translate(y=50)\r\n",
    "c4 = circle(r=100, stroke='green', stroke_width=4, fill='blue')| translate(y=50)\r\n",
    "c5 = circle(r=80, stroke='green', stroke_width=4, fill='yellow')| translate(y=50)\r\n",
    "\r\n",
    "vattam = c1 + c2 + c3 + c4 + c5\r\n",
    "\r\n",
    "hat = (vattam + corn) | scale(.5)\r\n",
    "show(hat)\r\n"
   ],
   "outputs": [
    {
     "output_type": "display_data",
     "data": {
      "text/plain": [
       "SVG:{self.nodes}"
      ],
      "image/svg+xml": "<svg width=\"300\" height=\"300\" viewBox=\"-150 -150 300 300\" fill=\"none\" stroke=\"black\" xmlns=\"http://www.w3.org/2000/svg\" xmlns:xlink=\"http://www.w3.org/1999/xlink\">\n<g transform=\"scale(1 -1)\">\n  <rect x=\"-150.0\" y=\"-150.0\" width=\"300\" height=\"300\" stroke=\"#ddd\" />\n  <line x1=\"-150\" y1=\"0\" x2=\"150\" y2=\"0\" stroke=\"#ddd\" />\n  <line x1=\"0\" y1=\"-150\" x2=\"0\" y2=\"150\" stroke=\"#ddd\" />\n  <g transform=\"scale(0.5 0.5)\">\n    <g>\n      <g>\n        <g>\n          <g>\n            <circle cx=\"0\" cy=\"0\" r=\"140\" fill=\"red\" stroke=\"white\" transform=\"translate(0 50)\" />\n            <circle cx=\"0\" cy=\"0\" r=\"120\" stroke=\"white\" stroke-width=\"3\" transform=\"translate(0 50)\" />\n          </g>\n          <circle cx=\"0\" cy=\"0\" r=\"116\" stroke=\"green\" stroke-width=\"4\" fill=\"yellow\" transform=\"translate(0 50)\" />\n        </g>\n        <circle cx=\"0\" cy=\"0\" r=\"100\" stroke=\"green\" stroke-width=\"4\" fill=\"blue\" transform=\"translate(0 50)\" />\n      </g>\n      <circle cx=\"0\" cy=\"0\" r=\"80\" stroke=\"green\" stroke-width=\"4\" fill=\"yellow\" transform=\"translate(0 50)\" />\n    </g>\n    <g>\n      <g>\n        <g>\n          <g>\n            <g>\n              <g>\n                <g>\n                  <g>\n                    <g>\n                      <g>\n                        <ellipse cx=\"0\" cy=\"0\" rx=\"75.0\" ry=\"25.0\" fill=\"orange\" stroke=\"green\" stroke-width=\"5\" transform=\"translate(0 -100)\" />\n                        <ellipse cx=\"0\" cy=\"0\" rx=\"70.0\" ry=\"25.0\" fill=\"red\" stroke=\"green\" stroke-width=\"5\" transform=\"translate(0 -80)\" />\n                      </g>\n                      <ellipse cx=\"0\" cy=\"0\" rx=\"65.0\" ry=\"25.0\" fill=\"orange\" stroke=\"green\" stroke-width=\"5\" transform=\"translate(0 -60)\" />\n                    </g>\n                    <ellipse cx=\"0\" cy=\"0\" rx=\"60.0\" ry=\"25.0\" fill=\"orange\" stroke=\"green\" stroke-width=\"5\" transform=\"translate(0 -40)\" />\n                  </g>\n                  <ellipse cx=\"0\" cy=\"0\" rx=\"55.0\" ry=\"25.0\" fill=\"orange\" stroke=\"green\" stroke-width=\"5\" transform=\"translate(0 -20)\" />\n                </g>\n                <ellipse cx=\"0\" cy=\"0\" rx=\"50.0\" ry=\"25.0\" fill=\"orange\" stroke=\"green\" stroke-width=\"5\" transform=\"translate(0 0)\" />\n              </g>\n              <ellipse cx=\"0\" cy=\"0\" rx=\"45.0\" ry=\"25.0\" fill=\"orange\" stroke=\"green\" stroke-width=\"5\" transform=\"translate(0 20)\" />\n            </g>\n            <ellipse cx=\"0\" cy=\"0\" rx=\"40.0\" ry=\"25.0\" fill=\"orange\" stroke=\"green\" stroke-width=\"5\" transform=\"translate(0 40)\" />\n          </g>\n          <ellipse cx=\"0\" cy=\"0\" rx=\"35.0\" ry=\"25.0\" fill=\"orange\" stroke=\"green\" stroke-width=\"5\" transform=\"translate(0 60)\" />\n        </g>\n        <polygon points=\"-20,0 20,0 0,40\" fill=\"orange\" stroke=\"green\" stroke-width=\"5\" transform=\"translate(0 97)\" />\n      </g>\n      <ellipse cx=\"0\" cy=\"0\" rx=\"25.0\" ry=\"25.0\" fill=\"orange\" stroke=\"green\" stroke-width=\"5\" transform=\"translate(0 80)\" />\n    </g>\n  </g>\n</g>\n</svg>\n"
     },
     "metadata": {}
    }
   ],
   "metadata": {}
  },
  {
   "cell_type": "code",
   "execution_count": 257,
   "source": [
    "e1 = ellipse(w=80, h=40, fill='black') | translate(x=-10, y=-5)\r\n",
    "e2 = ellipse(w=50, h=20, fill='white', stroke='none')\r\n",
    "c1 = circle(r=6, fill='grey')\r\n",
    "c2 = circle(r=2, fill='black')\r\n",
    "eye1 = (e1 + e2 + c1 + c2) | scale(.65) | translate(x=-50)\r\n",
    "\r\n",
    "e1 = ellipse(w=80, h=40, fill='black') | translate(x=10, y=-5)\r\n",
    "e2 = ellipse(w=50, h=20, fill='white', stroke='none')\r\n",
    "c1 = circle(r=6, fill='grey')\r\n",
    "c2 = circle(r=2, fill='black')\r\n",
    "eye2 = (e1 + e2 + c1 + c2) | scale(.65) | translate(x=50)\r\n",
    "\r\n",
    "eyes = eye1 + eye2\r\n",
    "show(eyes)"
   ],
   "outputs": [
    {
     "output_type": "display_data",
     "data": {
      "text/plain": [
       "SVG:{self.nodes}"
      ],
      "image/svg+xml": "<svg width=\"300\" height=\"300\" viewBox=\"-150 -150 300 300\" fill=\"none\" stroke=\"black\" xmlns=\"http://www.w3.org/2000/svg\" xmlns:xlink=\"http://www.w3.org/1999/xlink\">\n<g transform=\"scale(1 -1)\">\n  <rect x=\"-150.0\" y=\"-150.0\" width=\"300\" height=\"300\" stroke=\"#ddd\" />\n  <line x1=\"-150\" y1=\"0\" x2=\"150\" y2=\"0\" stroke=\"#ddd\" />\n  <line x1=\"0\" y1=\"-150\" x2=\"0\" y2=\"150\" stroke=\"#ddd\" />\n  <g>\n    <g transform=\"translate(-50 0) scale(0.65 0.65)\">\n      <g>\n        <g>\n          <ellipse cx=\"0\" cy=\"0\" rx=\"40.0\" ry=\"20.0\" fill=\"black\" transform=\"translate(-10 -5)\" />\n          <ellipse cx=\"0\" cy=\"0\" rx=\"25.0\" ry=\"10.0\" fill=\"white\" stroke=\"none\" />\n        </g>\n        <circle cx=\"0\" cy=\"0\" r=\"6\" fill=\"grey\" />\n      </g>\n      <circle cx=\"0\" cy=\"0\" r=\"2\" fill=\"black\" />\n    </g>\n    <g transform=\"translate(50 0) scale(0.65 0.65)\">\n      <g>\n        <g>\n          <ellipse cx=\"0\" cy=\"0\" rx=\"40.0\" ry=\"20.0\" fill=\"black\" transform=\"translate(10 -5)\" />\n          <ellipse cx=\"0\" cy=\"0\" rx=\"25.0\" ry=\"10.0\" fill=\"white\" stroke=\"none\" />\n        </g>\n        <circle cx=\"0\" cy=\"0\" r=\"6\" fill=\"grey\" />\n      </g>\n      <circle cx=\"0\" cy=\"0\" r=\"2\" fill=\"black\" />\n    </g>\n  </g>\n</g>\n</svg>\n"
     },
     "metadata": {}
    }
   ],
   "metadata": {}
  },
  {
   "cell_type": "code",
   "execution_count": 270,
   "source": [
    "p1 = point(x=-10, y=0)\r\n",
    "p2 = point(x=-10, y=-50)\r\n",
    "p3 = point(x=0, y=-55)\r\n",
    "p4 = point(x=10, y=-50)\r\n",
    "p5 = point(x=10, y=0)\r\n",
    "\r\n",
    "nose = polygon([p1, p2, p3, p4, p5])\r\n",
    "\r\n",
    "show(nose)"
   ],
   "outputs": [
    {
     "output_type": "display_data",
     "data": {
      "text/plain": [
       "SVG:{self.nodes}"
      ],
      "image/svg+xml": "<svg width=\"300\" height=\"300\" viewBox=\"-150 -150 300 300\" fill=\"none\" stroke=\"black\" xmlns=\"http://www.w3.org/2000/svg\" xmlns:xlink=\"http://www.w3.org/1999/xlink\">\n<g transform=\"scale(1 -1)\">\n  <rect x=\"-150.0\" y=\"-150.0\" width=\"300\" height=\"300\" stroke=\"#ddd\" />\n  <line x1=\"-150\" y1=\"0\" x2=\"150\" y2=\"0\" stroke=\"#ddd\" />\n  <line x1=\"0\" y1=\"-150\" x2=\"0\" y2=\"150\" stroke=\"#ddd\" />\n  <polygon points=\"-10,0 -10,-50 0,-55 10,-50 10,0\" />\n</g>\n</svg>\n"
     },
     "metadata": {}
    }
   ],
   "metadata": {}
  },
  {
   "cell_type": "code",
   "execution_count": 357,
   "source": [
    "e1 = ellipse(w=60, h=10, fill='black')\r\n",
    "e2 = ellipse(w=20, h=10, fill='black') | translate(x=-35, y=-15) | rotate(-30)\r\n",
    "e3 = e2 | rotate(-130) | translate(x=10, y=-24)\r\n",
    "show(e1, e2, e3)"
   ],
   "outputs": [
    {
     "output_type": "display_data",
     "data": {
      "text/plain": [
       "SVG:{self.nodes}"
      ],
      "image/svg+xml": "<svg width=\"300\" height=\"300\" viewBox=\"-150 -150 300 300\" fill=\"none\" stroke=\"black\" xmlns=\"http://www.w3.org/2000/svg\" xmlns:xlink=\"http://www.w3.org/1999/xlink\">\n<g transform=\"scale(1 -1)\">\n  <rect x=\"-150.0\" y=\"-150.0\" width=\"300\" height=\"300\" stroke=\"#ddd\" />\n  <line x1=\"-150\" y1=\"0\" x2=\"150\" y2=\"0\" stroke=\"#ddd\" />\n  <line x1=\"0\" y1=\"-150\" x2=\"0\" y2=\"150\" stroke=\"#ddd\" />\n  <ellipse cx=\"0\" cy=\"0\" rx=\"30.0\" ry=\"5.0\" fill=\"black\" />\n  <ellipse cx=\"0\" cy=\"0\" rx=\"10.0\" ry=\"5.0\" fill=\"black\" transform=\"rotate(-30) translate(-35 -15)\" />\n  <ellipse cx=\"0\" cy=\"0\" rx=\"10.0\" ry=\"5.0\" fill=\"black\" transform=\"translate(10 -24) rotate(-130) rotate(-30) translate(-35 -15)\" />\n</g>\n</svg>\n"
     },
     "metadata": {}
    }
   ],
   "metadata": {}
  },
  {
   "cell_type": "code",
   "execution_count": null,
   "source": [
    "from joy import *\r\n",
    "def Trees():\r\n",
    "    # stump part\r\n",
    "    e1 = ellipse(stroke_width='9') | rotate(90)\r\n",
    "    r1 = rectangle(w=70, h=210,stroke='none', fill='white') | translate(x=20, y=0) #6c345c\r\n",
    "    stump1 = e1 + r1 | scale(.5)\r\n",
    "    \r\n",
    "    e2 = ellipse(stroke_width='9') | rotate(-40)\r\n",
    "    r2 = rectangle(w=70, h=210,stroke='none', fill='white') | translate(x=-20, y=0) | rotate(50) #6c345c\r\n",
    "    stump2 = e2+r2 | scale(.5) | translate(x=150, y=100)\r\n",
    "    \r\n",
    "    stumps = stump1 + stump2    \r\n",
    "\r\n",
    "    #leaf part\r\n",
    "    main = line(x1=0,y1=0,x2=125,y2=0, fill='#368809')\r\n",
    "\r\n",
    "    lin1 = line(x1=10,y1=0,x2=25,y2=20, fill='#368809')\r\n",
    "    lin2 = line(x1=10, y1=0, x2=25, y2=-20, fill='#368809')\r\n",
    "    lin = ( lin1+lin2 ) | repeat(26, translate(x=5) | scale(.98))\r\n",
    "\r\n",
    "    Lin1 = line(x1=105,y1=0,x2=115,y2=10, fill='#368809')\r\n",
    "    Lin2 = line(x1=105,y1=0,x2=115,y2=-10, fill='#368809')\r\n",
    "    Lin = ( Lin1+Lin2 ) | repeat(8, translate(x=5) | scale(.98))\r\n",
    "\r\n",
    "\r\n",
    "    leaf = main + lin + Lin\r\n",
    "    leafs1 = leaf | scale(.5) | rotate(-80) | repeat(2, rotate(230) | translate(x=-10))\r\n",
    "    leafs2 = leaf | rotate(-20) | repeat(2, rotate(220) | translate(x=-10))  | translate(x=0, y=30)  | scale(.7) \r\n",
    "    leafs_final1 = leafs2 + leafs1 | scale(.5) | rotate(-30) | translate(x=-10, y=45) \r\n",
    "    leafs_final2 = leafs_final1  | rotate(90) | translate(x=160, y=150)\r\n",
    "    \r\n",
    "    tree1 = stump1 + leafs_final1 | scale(.65) | rotate(-30) | translate(x=20, y=-2)\r\n",
    "    tree2 = stump2 + leafs_final2 | scale(.65) | rotate(-30) | translate(x=-20, y=-2)\r\n",
    "    trees = tree1 + tree2 \r\n",
    "\r\n",
    "    return trees\r\n",
    "\r\n",
    "Trees()"
   ],
   "outputs": [],
   "metadata": {}
  },
  {
   "cell_type": "code",
   "execution_count": 44,
   "source": [
    "from joy import *\r\n",
    "\r\n",
    "c = circle(r=10, x=-10,y=0) | repeat(2, translate(x=19)) \r\n",
    "cover = rectangle(w=42, h=12, fill='white', stroke='none') | translate(y=-5)\r\n",
    "crow = (c + cover) | scale(.5)\r\n",
    "show(crow)"
   ],
   "outputs": [
    {
     "output_type": "display_data",
     "data": {
      "text/plain": [
       "SVG:{self.nodes}"
      ],
      "image/svg+xml": "<svg width=\"300\" height=\"300\" viewBox=\"-150 -150 300 300\" fill=\"none\" stroke=\"black\" xmlns=\"http://www.w3.org/2000/svg\" xmlns:xlink=\"http://www.w3.org/1999/xlink\">\n<g transform=\"scale(1 -1)\">\n  <rect x=\"-150.0\" y=\"-150.0\" width=\"300\" height=\"300\" stroke=\"#ddd\" />\n  <line x1=\"-150\" y1=\"0\" x2=\"150\" y2=\"0\" stroke=\"#ddd\" />\n  <line x1=\"0\" y1=\"-150\" x2=\"0\" y2=\"150\" stroke=\"#ddd\" />\n  <g transform=\"scale(0.5 0.5)\">\n    <g>\n      <defs>\n        <circle cx=\"-10\" cy=\"0\" r=\"10\" id=\"shape2269140586800\" />\n      </defs>\n      <g>\n        <use xlink:href=\"#shape2269140586800\" />\n        <use xlink:href=\"#shape2269140586800\" transform=\"translate(19 0)\" />\n      </g>\n    </g>\n    <rect x=\"-21.0\" y=\"-6.0\" width=\"42\" height=\"12\" fill=\"white\" stroke=\"none\" transform=\"translate(0 -5)\" />\n  </g>\n</g>\n</svg>\n"
     },
     "metadata": {}
    }
   ],
   "metadata": {}
  },
  {
   "cell_type": "code",
   "execution_count": 1,
   "source": [
    "from joy import *\r\n",
    "#head\r\n",
    "e1 = ellipse(fill='white') | translate(y=-70)\r\n",
    "e2 = ellipse(w=200, h=150, fill='green', stroke='none') | rotate(90)\r\n",
    "r1 = rectangle(w=140, h=20, fill='red', stroke='none') | translate(y=55)\r\n",
    "\r\n",
    "#forehead\r\n",
    "p1 = point(x=-30, y=50)\r\n",
    "p2 = point(x=0, y=45)\r\n",
    "p3 = point(x=30, y=50)\r\n",
    "p4 = point(x=30, y=40)\r\n",
    "p5 = point(x=0, y=20)\r\n",
    "p6 = point(x=-30, y=40)\r\n",
    "shape = polygon([p1, p2, p3, p4, p5, p6], fill='yellow', stroke='none') | translate(y=-10)\r\n",
    "\r\n",
    "c = circle(r=4, fill='red', stroke='none') | translate(y=28) | repeat(2, translate(y=-25))\r\n",
    "lin = line(x1=7, y1=18, x2=-7, y2=18, stroke='white', stroke_width=6)\r\n",
    "\r\n",
    "head = e1 + e2+ r1 + shape + c + lin\r\n",
    "\r\n",
    "#ears\r\n",
    "c1 = circle(r=25,fill='orange', stroke='green', stroke_width=4)\r\n",
    "c2 = circle(r=10, stroke='red', stroke_width=10)\r\n",
    "c3 = circle(r=5, stroke='white', stroke_width=3)\r\n",
    "upper_ear = (c1 + c2 + c3 ) | translate(y=50)\r\n",
    "\r\n",
    "c1 = circle(r=40,fill='yellow', stroke='green', stroke_width=4)\r\n",
    "c2 = circle(r=4, x=0,  y=30, fill='red', stroke='none') | repeat(12, rotate(30))\r\n",
    "c3 = circle(r=22, stroke='white', stroke_width=3)\r\n",
    "c4 = circle(r=15, stroke_width=10, stroke='red')\r\n",
    "lower_ear = (c1 + c2 +c3 + c4) \r\n",
    "\r\n",
    "ears = (upper_ear + lower_ear) | translate(x=-90, y=-5) | repeat(2, translate(x=180))\r\n",
    "\r\n",
    "#eyes\r\n",
    "e1 = ellipse(w=80, h=40, fill='black') | translate(x=-8, y=-5)\r\n",
    "e2 = ellipse(w=50, h=20, fill='white', stroke='none')\r\n",
    "c1 = circle(r=6, fill='grey')\r\n",
    "c2 = circle(r=2, fill='black')\r\n",
    "eye1 = (e1 + e2 + c1 + c2) | scale(.65) | translate(x=-50)\r\n",
    "\r\n",
    "e1 = ellipse(w=80, h=40, fill='black') | translate(x=8, y=-5)\r\n",
    "e2 = ellipse(w=50, h=20, fill='white', stroke='none')\r\n",
    "c1 = circle(r=6, fill='grey')\r\n",
    "c2 = circle(r=2, fill='black')\r\n",
    "eye2 = (e1 + e2 + c1 + c2) | scale(.65) | translate(x=50)\r\n",
    "\r\n",
    "eyes = (eye1 + eye2) | scale(.6) | translate(y=-4)\r\n",
    "\r\n",
    "#nose \r\n",
    "p1 = point(x=-10, y=0)\r\n",
    "p2 = point(x=-10, y=-50)\r\n",
    "p3 = point(x=0, y=-55)\r\n",
    "p4 = point(x=10, y=-50)\r\n",
    "p5 = point(x=10, y=0)\r\n",
    "shape = polygon([p1, p2, p3, p4, p5]) | translate(y=-5)\r\n",
    "lin = line(x1=-10, y1=0, x2=10, y2=0, stroke='green') | translate(y=-5)\r\n",
    "nose = shape +lin\r\n",
    "\r\n",
    "#mouth\r\n",
    "e1 = ellipse(w=60, h=10, fill='red', stroke='none')\r\n",
    "e2 = ellipse(w=20, h=10, fill='red', stroke='none') | translate(x=-35, y=-15) | rotate(-30)\r\n",
    "e3 = e2 | rotate(-130) | translate(x=10, y=-24)\r\n",
    "mouth = (e1 + e2 + e3) | translate(y=-70)\r\n",
    "\r\n",
    "#hat\r\n",
    "p1 = point(x=-20, y=0)\r\n",
    "p2 = point(x=20, y=0)\r\n",
    "p3 = point(x=0, y=40)\r\n",
    "\r\n",
    "e1 = ellipse(h=50, w=150, fill='white', stroke='green', stroke_width=5) | translate(y=-100)      \r\n",
    "e2 = ellipse(h=50, w=140, fill='#cf4200', stroke='green', stroke_width=5) | translate(y=-80)\r\n",
    "e3 = ellipse(h=50, w=130, fill='#ca0001', stroke='green', stroke_width=5) | translate(y=-60)\r\n",
    "e4 = ellipse(h=50, w=120, fill='#cf4200', stroke='green', stroke_width=5) | translate(y=-40)\r\n",
    "e5 = ellipse(h=50, w=110, fill='#ca0001', stroke='green', stroke_width=5) | translate(y=-20)\r\n",
    "e6 = ellipse(h=50, w=100, fill='#cf4200', stroke='green', stroke_width=5) | translate(y=0)\r\n",
    "e7 = ellipse(h=50, w=90, fill='#ca0001', stroke='green', stroke_width=5) | translate(y=20)\r\n",
    "e8 = ellipse(h=50, w=80, fill='#cf4200', stroke='green', stroke_width=5) | translate(y=40)\r\n",
    "e9 = ellipse(h=50, w=70, fill='#cf4200', stroke='green', stroke_width=5) | translate(y=60)\r\n",
    "e10 = polygon([p1, p2, p3], fill='#ca0001', stroke='none', stroke_width=5) | translate(y=97)     # it is a polygon\r\n",
    "e11 = ellipse(h=50, w=50, fill='#ca0001', stroke='none', stroke_width=5) | translate(y=80)\r\n",
    "corn = (e1 + e2 + e3 + e4 + e5 + e6 + e7 + e8 + e9 + e10 + e11) | scale(.5) | translate(y=75)\r\n",
    "\r\n",
    "c1 = circle(r=140, fill='red', stroke='white')| translate(y=50)\r\n",
    "c2 = circle(r=120, stroke='white', stroke_width=3)| translate(y=50)\r\n",
    "c3 = circle(r=116, stroke='green', stroke_width=4, fill='yellow')| translate(y=50)\r\n",
    "c4 = circle(r=100, stroke='green', stroke_width=4, fill='blue')| translate(y=50)\r\n",
    "c5 = circle(r=80, stroke='green', stroke_width=4, fill='yellow')| translate(y=50)\r\n",
    "vattam = (c1 + c2 + c3 + c4 + c5) | scale(.5)\r\n",
    "\r\n",
    "face = (head + ears + eyes + nose + mouth) | translate(y=-30) | scale(.5)\r\n",
    "kathakali_face = (vattam + face + corn) | scale(.5)\r\n",
    "\r\n",
    "show(kathakali_face)"
   ],
   "outputs": [
    {
     "output_type": "display_data",
     "data": {
      "text/plain": [
       "SVG:{self.nodes}"
      ],
      "image/svg+xml": "<svg width=\"300\" height=\"300\" viewBox=\"-150 -150 300 300\" fill=\"none\" stroke=\"black\" xmlns=\"http://www.w3.org/2000/svg\" xmlns:xlink=\"http://www.w3.org/1999/xlink\">\n<g transform=\"scale(1 -1)\">\n  <rect x=\"-150.0\" y=\"-150.0\" width=\"300\" height=\"300\" stroke=\"#ddd\" />\n  <line x1=\"-150\" y1=\"0\" x2=\"150\" y2=\"0\" stroke=\"#ddd\" />\n  <line x1=\"0\" y1=\"-150\" x2=\"0\" y2=\"150\" stroke=\"#ddd\" />\n  <g transform=\"scale(0.5 0.5)\">\n    <g>\n      <g transform=\"scale(0.5 0.5)\">\n        <g>\n          <g>\n            <g>\n              <circle cx=\"0\" cy=\"0\" r=\"140\" fill=\"red\" stroke=\"white\" transform=\"translate(0 50)\" />\n              <circle cx=\"0\" cy=\"0\" r=\"120\" stroke=\"white\" stroke-width=\"3\" transform=\"translate(0 50)\" />\n            </g>\n            <circle cx=\"0\" cy=\"0\" r=\"116\" stroke=\"green\" stroke-width=\"4\" fill=\"yellow\" transform=\"translate(0 50)\" />\n          </g>\n          <circle cx=\"0\" cy=\"0\" r=\"100\" stroke=\"green\" stroke-width=\"4\" fill=\"blue\" transform=\"translate(0 50)\" />\n        </g>\n        <circle cx=\"0\" cy=\"0\" r=\"80\" stroke=\"green\" stroke-width=\"4\" fill=\"yellow\" transform=\"translate(0 50)\" />\n      </g>\n      <g transform=\"scale(0.5 0.5) translate(0 -30)\">\n        <g>\n          <g>\n            <g>\n              <g>\n                <g>\n                  <g>\n                    <g>\n                      <g>\n                        <ellipse cx=\"0\" cy=\"0\" rx=\"100.0\" ry=\"50.0\" fill=\"white\" transform=\"translate(0 -70)\" />\n                        <ellipse cx=\"0\" cy=\"0\" rx=\"100.0\" ry=\"75.0\" fill=\"green\" stroke=\"none\" transform=\"rotate(90)\" />\n                      </g>\n                      <rect x=\"-70.0\" y=\"-10.0\" width=\"140\" height=\"20\" fill=\"red\" stroke=\"none\" transform=\"translate(0 55)\" />\n                    </g>\n                    <polygon points=\"-30,50 0,45 30,50 30,40 0,20 -30,40\" fill=\"yellow\" stroke=\"none\" transform=\"translate(0 -10)\" />\n                  </g>\n                  <g>\n                    <defs>\n                      <circle cx=\"0\" cy=\"0\" r=\"4\" fill=\"red\" stroke=\"none\" id=\"shape2510337222352\" transform=\"translate(0 28)\" />\n                    </defs>\n                    <g>\n                      <use xlink:href=\"#shape2510337222352\" />\n                      <use xlink:href=\"#shape2510337222352\" transform=\"translate(0 -25)\" />\n                    </g>\n                  </g>\n                </g>\n                <line x1=\"7\" y1=\"18\" x2=\"-7\" y2=\"18\" stroke=\"white\" stroke-width=\"6\" />\n              </g>\n              <g>\n                <defs>\n                  <g id=\"shape2510337306000\" transform=\"translate(-90 -5)\">\n                    <g transform=\"translate(0 50)\">\n                      <g>\n                        <circle cx=\"0\" cy=\"0\" r=\"25\" fill=\"orange\" stroke=\"green\" stroke-width=\"4\" />\n                        <circle cx=\"0\" cy=\"0\" r=\"10\" stroke=\"red\" stroke-width=\"10\" />\n                      </g>\n                      <circle cx=\"0\" cy=\"0\" r=\"5\" stroke=\"white\" stroke-width=\"3\" />\n                    </g>\n                    <g>\n                      <g>\n                        <g>\n                          <circle cx=\"0\" cy=\"0\" r=\"40\" fill=\"yellow\" stroke=\"green\" stroke-width=\"4\" />\n                          <g>\n                            <defs>\n                              <circle cx=\"0\" cy=\"30\" r=\"4\" fill=\"red\" stroke=\"none\" id=\"shape2510337195696\" />\n                            </defs>\n                            <g>\n                              <use xlink:href=\"#shape2510337195696\" />\n                              <g transform=\"rotate(30)\">\n                                <use xlink:href=\"#shape2510337195696\" />\n                                <g transform=\"rotate(30)\">\n                                  <use xlink:href=\"#shape2510337195696\" />\n                                  <g transform=\"rotate(30)\">\n                                    <use xlink:href=\"#shape2510337195696\" />\n                                    <g transform=\"rotate(30)\">\n                                      <use xlink:href=\"#shape2510337195696\" />\n                                      <g transform=\"rotate(30)\">\n                                        <use xlink:href=\"#shape2510337195696\" />\n                                        <g transform=\"rotate(30)\">\n                                          <use xlink:href=\"#shape2510337195696\" />\n                                          <g transform=\"rotate(30)\">\n                                            <use xlink:href=\"#shape2510337195696\" />\n                                            <g transform=\"rotate(30)\">\n                                              <use xlink:href=\"#shape2510337195696\" />\n                                              <g transform=\"rotate(30)\">\n                                                <use xlink:href=\"#shape2510337195696\" />\n                                                <g transform=\"rotate(30)\">\n                                                  <use xlink:href=\"#shape2510337195696\" />\n                                                  <use xlink:href=\"#shape2510337195696\" transform=\"rotate(30)\" />\n                                                </g>\n                                              </g>\n                                            </g>\n                                          </g>\n                                        </g>\n                                      </g>\n                                    </g>\n                                  </g>\n                                </g>\n                              </g>\n                            </g>\n                          </g>\n                        </g>\n                        <circle cx=\"0\" cy=\"0\" r=\"22\" stroke=\"white\" stroke-width=\"3\" />\n                      </g>\n                      <circle cx=\"0\" cy=\"0\" r=\"15\" stroke-width=\"10\" stroke=\"red\" />\n                    </g>\n                  </g>\n                </defs>\n                <g>\n                  <use xlink:href=\"#shape2510337306000\" />\n                  <use xlink:href=\"#shape2510337306000\" transform=\"translate(180 0)\" />\n                </g>\n              </g>\n            </g>\n            <g transform=\"translate(0 -4) scale(0.6 0.6)\">\n              <g transform=\"translate(-50 0) scale(0.65 0.65)\">\n                <g>\n                  <g>\n                    <ellipse cx=\"0\" cy=\"0\" rx=\"40.0\" ry=\"20.0\" fill=\"black\" transform=\"translate(-8 -5)\" />\n                    <ellipse cx=\"0\" cy=\"0\" rx=\"25.0\" ry=\"10.0\" fill=\"white\" stroke=\"none\" />\n                  </g>\n                  <circle cx=\"0\" cy=\"0\" r=\"6\" fill=\"grey\" />\n                </g>\n                <circle cx=\"0\" cy=\"0\" r=\"2\" fill=\"black\" />\n              </g>\n              <g transform=\"translate(50 0) scale(0.65 0.65)\">\n                <g>\n                  <g>\n                    <ellipse cx=\"0\" cy=\"0\" rx=\"40.0\" ry=\"20.0\" fill=\"black\" transform=\"translate(8 -5)\" />\n                    <ellipse cx=\"0\" cy=\"0\" rx=\"25.0\" ry=\"10.0\" fill=\"white\" stroke=\"none\" />\n                  </g>\n                  <circle cx=\"0\" cy=\"0\" r=\"6\" fill=\"grey\" />\n                </g>\n                <circle cx=\"0\" cy=\"0\" r=\"2\" fill=\"black\" />\n              </g>\n            </g>\n          </g>\n          <g>\n            <polygon points=\"-10,0 -10,-50 0,-55 10,-50 10,0\" transform=\"translate(0 -5)\" />\n            <line x1=\"-10\" y1=\"0\" x2=\"10\" y2=\"0\" stroke=\"green\" transform=\"translate(0 -5)\" />\n          </g>\n        </g>\n        <g transform=\"translate(0 -70)\">\n          <g>\n            <ellipse cx=\"0\" cy=\"0\" rx=\"30.0\" ry=\"5.0\" fill=\"red\" stroke=\"none\" />\n            <ellipse cx=\"0\" cy=\"0\" rx=\"10.0\" ry=\"5.0\" fill=\"red\" stroke=\"none\" transform=\"rotate(-30) translate(-35 -15)\" />\n          </g>\n          <ellipse cx=\"0\" cy=\"0\" rx=\"10.0\" ry=\"5.0\" fill=\"red\" stroke=\"none\" transform=\"translate(10 -24) rotate(-130) rotate(-30) translate(-35 -15)\" />\n        </g>\n      </g>\n    </g>\n    <g transform=\"translate(0 75) scale(0.5 0.5)\">\n      <g>\n        <g>\n          <g>\n            <g>\n              <g>\n                <g>\n                  <g>\n                    <g>\n                      <g>\n                        <ellipse cx=\"0\" cy=\"0\" rx=\"75.0\" ry=\"25.0\" fill=\"white\" stroke=\"green\" stroke-width=\"5\" transform=\"translate(0 -100)\" />\n                        <ellipse cx=\"0\" cy=\"0\" rx=\"70.0\" ry=\"25.0\" fill=\"#cf4200\" stroke=\"green\" stroke-width=\"5\" transform=\"translate(0 -80)\" />\n                      </g>\n                      <ellipse cx=\"0\" cy=\"0\" rx=\"65.0\" ry=\"25.0\" fill=\"#ca0001\" stroke=\"green\" stroke-width=\"5\" transform=\"translate(0 -60)\" />\n                    </g>\n                    <ellipse cx=\"0\" cy=\"0\" rx=\"60.0\" ry=\"25.0\" fill=\"#cf4200\" stroke=\"green\" stroke-width=\"5\" transform=\"translate(0 -40)\" />\n                  </g>\n                  <ellipse cx=\"0\" cy=\"0\" rx=\"55.0\" ry=\"25.0\" fill=\"#ca0001\" stroke=\"green\" stroke-width=\"5\" transform=\"translate(0 -20)\" />\n                </g>\n                <ellipse cx=\"0\" cy=\"0\" rx=\"50.0\" ry=\"25.0\" fill=\"#cf4200\" stroke=\"green\" stroke-width=\"5\" transform=\"translate(0 0)\" />\n              </g>\n              <ellipse cx=\"0\" cy=\"0\" rx=\"45.0\" ry=\"25.0\" fill=\"#ca0001\" stroke=\"green\" stroke-width=\"5\" transform=\"translate(0 20)\" />\n            </g>\n            <ellipse cx=\"0\" cy=\"0\" rx=\"40.0\" ry=\"25.0\" fill=\"#cf4200\" stroke=\"green\" stroke-width=\"5\" transform=\"translate(0 40)\" />\n          </g>\n          <ellipse cx=\"0\" cy=\"0\" rx=\"35.0\" ry=\"25.0\" fill=\"#cf4200\" stroke=\"green\" stroke-width=\"5\" transform=\"translate(0 60)\" />\n        </g>\n        <polygon points=\"-20,0 20,0 0,40\" fill=\"#ca0001\" stroke=\"none\" stroke-width=\"5\" transform=\"translate(0 97)\" />\n      </g>\n      <ellipse cx=\"0\" cy=\"0\" rx=\"25.0\" ry=\"25.0\" fill=\"#ca0001\" stroke=\"none\" stroke-width=\"5\" transform=\"translate(0 80)\" />\n    </g>\n  </g>\n</g>\n</svg>\n"
     },
     "metadata": {}
    }
   ],
   "metadata": {}
  }
 ],
 "metadata": {
  "orig_nbformat": 4,
  "language_info": {
   "name": "python",
   "version": "3.9.6",
   "mimetype": "text/x-python",
   "codemirror_mode": {
    "name": "ipython",
    "version": 3
   },
   "pygments_lexer": "ipython3",
   "nbconvert_exporter": "python",
   "file_extension": ".py"
  },
  "kernelspec": {
   "name": "python3",
   "display_name": "Python 3.9.6 64-bit"
  },
  "interpreter": {
   "hash": "fa5216fee35f452e5fdd4427fb34069b0db31c3292a7466921a974e4c2813772"
  }
 },
 "nbformat": 4,
 "nbformat_minor": 2
}