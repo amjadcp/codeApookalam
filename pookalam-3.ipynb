{
 "cells": [
  {
   "cell_type": "code",
   "execution_count": 95,
   "source": [
    "from joy import *\r\n",
    "\r\n",
    "\r\n",
    "\r\n",
    "Center_circle()"
   ],
   "outputs": [
    {
     "output_type": "execute_result",
     "data": {
      "text/plain": [
       "<g {}>"
      ],
      "image/svg+xml": "<svg width=\"300\" height=\"300\" viewBox=\"-150 -150 300 300\" fill=\"none\" stroke=\"black\" xmlns=\"http://www.w3.org/2000/svg\" xmlns:xlink=\"http://www.w3.org/1999/xlink\">\n<g transform=\"scale(1 -1)\">\n  <g>\n    <g>\n      <circle cx=\"0\" cy=\"0\" r=\"88\" stroke-width=\"3\" stroke=\"green\" fill=\"#6c345c\" />\n      <circle cx=\"25\" cy=\"65\" r=\"10\" fill=\"#fcae17\" stroke=\"none\" />\n    </g>\n    <g>\n      <g>\n        <g>\n          <defs>\n            <g id=\"shape2105779882592\" transform=\"translate(40 33) scale(0.5 0.5)\">\n              <g>\n                <defs>\n                  <circle cx=\"-10\" cy=\"0\" r=\"10\" id=\"shape2105780055536\" />\n                </defs>\n                <g>\n                  <use xlink:href=\"#shape2105780055536\" />\n                  <use xlink:href=\"#shape2105780055536\" transform=\"translate(19 0)\" />\n                </g>\n              </g>\n              <rect x=\"-21.0\" y=\"-6.0\" width=\"42\" height=\"12\" fill=\"#6c345c\" stroke=\"none\" transform=\"translate(0 -5)\" />\n            </g>\n          </defs>\n          <g>\n            <use xlink:href=\"#shape2105779882592\" />\n            <use xlink:href=\"#shape2105779882592\" transform=\"translate(5 -10)\" />\n          </g>\n        </g>\n        <g>\n          <defs>\n            <g id=\"shape2105779994048\" transform=\"translate(-40 45) scale(0.5 0.5)\">\n              <g>\n                <defs>\n                  <circle cx=\"-10\" cy=\"0\" r=\"10\" id=\"shape2105780055536\" />\n                </defs>\n                <g>\n                  <use xlink:href=\"#shape2105780055536\" />\n                  <use xlink:href=\"#shape2105780055536\" transform=\"translate(19 0)\" />\n                </g>\n              </g>\n              <rect x=\"-21.0\" y=\"-6.0\" width=\"42\" height=\"12\" fill=\"#6c345c\" stroke=\"none\" transform=\"translate(0 -5)\" />\n            </g>\n          </defs>\n          <g>\n            <use xlink:href=\"#shape2105779994048\" />\n            <use xlink:href=\"#shape2105779994048\" transform=\"translate(-5 -11)\" />\n          </g>\n        </g>\n      </g>\n      <g>\n        <defs>\n          <g id=\"shape2105779962544\" transform=\"translate(-40 45) scale(0.5 0.5)\">\n            <g>\n              <defs>\n                <circle cx=\"-10\" cy=\"0\" r=\"10\" id=\"shape2105780055536\" />\n              </defs>\n              <g>\n                <use xlink:href=\"#shape2105780055536\" />\n                <use xlink:href=\"#shape2105780055536\" transform=\"translate(19 0)\" />\n              </g>\n            </g>\n            <rect x=\"-21.0\" y=\"-6.0\" width=\"42\" height=\"12\" fill=\"#6c345c\" stroke=\"none\" transform=\"translate(0 -5)\" />\n          </g>\n        </defs>\n        <g>\n          <use xlink:href=\"#shape2105779962544\" />\n          <use xlink:href=\"#shape2105779962544\" transform=\"translate(15 -15)\" />\n        </g>\n      </g>\n    </g>\n  </g>\n</g>\n</svg>\n"
     },
     "metadata": {},
     "execution_count": 95
    }
   ],
   "metadata": {}
  },
  {
   "cell_type": "code",
   "execution_count": null,
   "source": [],
   "outputs": [],
   "metadata": {}
  }
 ],
 "metadata": {
  "orig_nbformat": 4,
  "language_info": {
   "name": "python",
   "version": "3.9.6",
   "mimetype": "text/x-python",
   "codemirror_mode": {
    "name": "ipython",
    "version": 3
   },
   "pygments_lexer": "ipython3",
   "nbconvert_exporter": "python",
   "file_extension": ".py"
  },
  "kernelspec": {
   "name": "python3",
   "display_name": "Python 3.9.6 64-bit"
  },
  "interpreter": {
   "hash": "fa5216fee35f452e5fdd4427fb34069b0db31c3292a7466921a974e4c2813772"
  }
 },
 "nbformat": 4,
 "nbformat_minor": 2
}