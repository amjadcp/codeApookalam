{
 "cells": [
  {
   "cell_type": "code",
   "execution_count": 184,
   "source": [
    "from joy import *\r\n",
    "\r\n",
    "p1= point(x=-10, y=0)\r\n",
    "p2= point(x=-15, y=20)\r\n",
    "p3= point(x=10, y=5)\r\n",
    "p4= point(x=10, y=0)\r\n",
    "front = polygon([p1,p2,p3,p4], fill='black')\r\n",
    "show(front)"
   ],
   "outputs": [
    {
     "output_type": "display_data",
     "data": {
      "text/plain": [
       "SVG:{self.nodes}"
      ],
      "image/svg+xml": "<svg width=\"300\" height=\"300\" viewBox=\"-150 -150 300 300\" fill=\"none\" stroke=\"black\" xmlns=\"http://www.w3.org/2000/svg\" xmlns:xlink=\"http://www.w3.org/1999/xlink\">\n<g transform=\"scale(1 -1)\">\n  <rect x=\"-150.0\" y=\"-150.0\" width=\"300\" height=\"300\" stroke=\"#ddd\" />\n  <line x1=\"-150\" y1=\"0\" x2=\"150\" y2=\"0\" stroke=\"#ddd\" />\n  <line x1=\"0\" y1=\"-150\" x2=\"0\" y2=\"150\" stroke=\"#ddd\" />\n  <polygon points=\"-10,0 -15,20 10,5 10,0\" fill=\"black\" />\n</g>\n</svg>\n"
     },
     "metadata": {}
    }
   ],
   "metadata": {}
  },
  {
   "cell_type": "code",
   "execution_count": 357,
   "source": [
    "#body of vallam\r\n",
    "lin = line(stroke_width=10)\r\n",
    "e = ellipse(h=100,w=60,x=-72, y=10, stroke_width=5)\r\n",
    "r1 = rectangle(w=100, h=90, fill='white', stroke='none', x=-39, y=50)\r\n",
    "r2 = rectangle(w=152, h=90, fill='white', stroke='none', x=-32, y=-50)\r\n",
    "body = lin+e+r1+r2\r\n",
    "\r\n",
    "#panka\r\n",
    "upper = line(x1=90,y1=20,x2=60,y2=-10, stroke_width=2)\r\n",
    "lower = line(x1=60,y1=-10,x2=50,y2=-20, stroke_width=5)\r\n",
    "panka = (upper+lower)\r\n",
    "pankas = panka|scale(1)|repeat(8, translate(x=-20)) \r\n",
    "\r\n",
    "#front of vallam\r\n",
    "p1 = point(x=100,y=0)\r\n",
    "p2 = point(x=100,y=10)\r\n",
    "p3 = point(x=130,y=0)\r\n",
    "front = polygon([p1, p2, p3], stroke_width=5, fill='black') | translate(y=-3)\r\n",
    "\r\n",
    "vallam = body+pankas+front\r\n",
    "show(vallam)\r\n",
    "\r\n"
   ],
   "outputs": [
    {
     "output_type": "display_data",
     "data": {
      "text/plain": [
       "SVG:{self.nodes}"
      ],
      "image/svg+xml": "<svg width=\"300\" height=\"300\" viewBox=\"-150 -150 300 300\" fill=\"none\" stroke=\"black\" xmlns=\"http://www.w3.org/2000/svg\" xmlns:xlink=\"http://www.w3.org/1999/xlink\">\n<g transform=\"scale(1 -1)\">\n  <rect x=\"-150.0\" y=\"-150.0\" width=\"300\" height=\"300\" stroke=\"#ddd\" />\n  <line x1=\"-150\" y1=\"0\" x2=\"150\" y2=\"0\" stroke=\"#ddd\" />\n  <line x1=\"0\" y1=\"-150\" x2=\"0\" y2=\"150\" stroke=\"#ddd\" />\n  <g>\n    <g>\n      <g>\n        <g>\n          <g>\n            <line x1=\"-100\" y1=\"0\" x2=\"100\" y2=\"0\" stroke-width=\"10\" />\n            <ellipse cx=\"-72\" cy=\"10\" rx=\"30.0\" ry=\"50.0\" stroke-width=\"5\" />\n          </g>\n          <rect x=\"-89.0\" y=\"5.0\" width=\"100\" height=\"90\" fill=\"white\" stroke=\"none\" />\n        </g>\n        <rect x=\"-108.0\" y=\"-95.0\" width=\"152\" height=\"90\" fill=\"white\" stroke=\"none\" />\n      </g>\n      <g>\n        <defs>\n          <g id=\"shape2365851107728\" transform=\"scale(1 1)\">\n            <line x1=\"90\" y1=\"20\" x2=\"60\" y2=\"-10\" stroke-width=\"2\" />\n            <line x1=\"60\" y1=\"-10\" x2=\"50\" y2=\"-20\" stroke-width=\"5\" />\n          </g>\n        </defs>\n        <g>\n          <use xlink:href=\"#shape2365851107728\" />\n          <g transform=\"translate(-20 0)\">\n            <use xlink:href=\"#shape2365851107728\" />\n            <g transform=\"translate(-20 0)\">\n              <use xlink:href=\"#shape2365851107728\" />\n              <g transform=\"translate(-20 0)\">\n                <use xlink:href=\"#shape2365851107728\" />\n                <g transform=\"translate(-20 0)\">\n                  <use xlink:href=\"#shape2365851107728\" />\n                  <g transform=\"translate(-20 0)\">\n                    <use xlink:href=\"#shape2365851107728\" />\n                    <g transform=\"translate(-20 0)\">\n                      <use xlink:href=\"#shape2365851107728\" />\n                      <use xlink:href=\"#shape2365851107728\" transform=\"translate(-20 0)\" />\n                    </g>\n                  </g>\n                </g>\n              </g>\n            </g>\n          </g>\n        </g>\n      </g>\n    </g>\n    <polygon points=\"100,0 100,10 130,0\" stroke-width=\"5\" fill=\"black\" transform=\"translate(0 -3)\" />\n  </g>\n</g>\n</svg>\n"
     },
     "metadata": {}
    }
   ],
   "metadata": {}
  },
  {
   "cell_type": "code",
   "execution_count": 366,
   "source": [
    "#body of vallam\r\n",
    "lin = line(stroke_width=10)\r\n",
    "e = ellipse(h=100,w=60,x=72, y=10, stroke_width=5)\r\n",
    "r1 = rectangle(w=100, h=90, fill='white', stroke='none', x=39, y=50)\r\n",
    "r2 = rectangle(w=152, h=90, fill='white', stroke='none', x=32, y=-50)\r\n",
    "body = lin+e+r1+r2\r\n",
    "\r\n",
    "#panka\r\n",
    "upper = line(x1=-90,y1=20,x2=-60,y2=-10, stroke_width=2)\r\n",
    "lower = line(x1=-60,y1=-10,x2=-50,y2=-20, stroke_width=5)\r\n",
    "panka = (upper+lower) | translate(x=146)\r\n",
    "pankas = panka|scale(1)|repeat(8, translate(x=-20)) \r\n",
    "\r\n",
    "#front of vallam\r\n",
    "p1 = point(x=-100,y=0)\r\n",
    "p2 = point(x=-100,y=10)\r\n",
    "p3 = point(x=-130,y=0)\r\n",
    "front = polygon([p1, p2, p3], stroke_width=5, fill='black') | translate(y=-3)\r\n",
    "\r\n",
    "vallam = body+pankas+front\r\n",
    "show(vallam)\r\n",
    "\r\n"
   ],
   "outputs": [
    {
     "output_type": "display_data",
     "data": {
      "text/plain": [
       "SVG:{self.nodes}"
      ],
      "image/svg+xml": "<svg width=\"300\" height=\"300\" viewBox=\"-150 -150 300 300\" fill=\"none\" stroke=\"black\" xmlns=\"http://www.w3.org/2000/svg\" xmlns:xlink=\"http://www.w3.org/1999/xlink\">\n<g transform=\"scale(1 -1)\">\n  <rect x=\"-150.0\" y=\"-150.0\" width=\"300\" height=\"300\" stroke=\"#ddd\" />\n  <line x1=\"-150\" y1=\"0\" x2=\"150\" y2=\"0\" stroke=\"#ddd\" />\n  <line x1=\"0\" y1=\"-150\" x2=\"0\" y2=\"150\" stroke=\"#ddd\" />\n  <g>\n    <g>\n      <g>\n        <g>\n          <g>\n            <line x1=\"-100\" y1=\"0\" x2=\"100\" y2=\"0\" stroke-width=\"10\" />\n            <ellipse cx=\"72\" cy=\"10\" rx=\"30.0\" ry=\"50.0\" stroke-width=\"5\" />\n          </g>\n          <rect x=\"-11.0\" y=\"5.0\" width=\"100\" height=\"90\" fill=\"white\" stroke=\"none\" />\n        </g>\n        <rect x=\"-44.0\" y=\"-95.0\" width=\"152\" height=\"90\" fill=\"white\" stroke=\"none\" />\n      </g>\n      <g>\n        <defs>\n          <g id=\"shape2365851467584\" transform=\"scale(1 1) translate(146 0)\">\n            <line x1=\"-90\" y1=\"20\" x2=\"-60\" y2=\"-10\" stroke-width=\"2\" />\n            <line x1=\"-60\" y1=\"-10\" x2=\"-50\" y2=\"-20\" stroke-width=\"5\" />\n          </g>\n        </defs>\n        <g>\n          <use xlink:href=\"#shape2365851467584\" />\n          <g transform=\"translate(-20 0)\">\n            <use xlink:href=\"#shape2365851467584\" />\n            <g transform=\"translate(-20 0)\">\n              <use xlink:href=\"#shape2365851467584\" />\n              <g transform=\"translate(-20 0)\">\n                <use xlink:href=\"#shape2365851467584\" />\n                <g transform=\"translate(-20 0)\">\n                  <use xlink:href=\"#shape2365851467584\" />\n                  <g transform=\"translate(-20 0)\">\n                    <use xlink:href=\"#shape2365851467584\" />\n                    <g transform=\"translate(-20 0)\">\n                      <use xlink:href=\"#shape2365851467584\" />\n                      <use xlink:href=\"#shape2365851467584\" transform=\"translate(-20 0)\" />\n                    </g>\n                  </g>\n                </g>\n              </g>\n            </g>\n          </g>\n        </g>\n      </g>\n    </g>\n    <polygon points=\"-100,0 -100,10 -130,0\" stroke-width=\"5\" fill=\"black\" transform=\"translate(0 -3)\" />\n  </g>\n</g>\n</svg>\n"
     },
     "metadata": {}
    }
   ],
   "metadata": {}
  }
 ],
 "metadata": {
  "orig_nbformat": 4,
  "language_info": {
   "name": "python",
   "version": "3.9.6",
   "mimetype": "text/x-python",
   "codemirror_mode": {
    "name": "ipython",
    "version": 3
   },
   "pygments_lexer": "ipython3",
   "nbconvert_exporter": "python",
   "file_extension": ".py"
  },
  "kernelspec": {
   "name": "python3",
   "display_name": "Python 3.9.6 64-bit"
  },
  "interpreter": {
   "hash": "fa5216fee35f452e5fdd4427fb34069b0db31c3292a7466921a974e4c2813772"
  }
 },
 "nbformat": 4,
 "nbformat_minor": 2
}